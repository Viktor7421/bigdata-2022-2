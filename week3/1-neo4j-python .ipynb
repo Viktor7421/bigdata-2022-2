{
 "cells": [
  {
   "cell_type": "code",
   "execution_count": 2,
   "id": "informal-certificate",
   "metadata": {},
   "outputs": [
    {
     "data": {
      "text/html": [
       "<div>\n",
       "<style scoped>\n",
       "    .dataframe tbody tr th:only-of-type {\n",
       "        vertical-align: middle;\n",
       "    }\n",
       "\n",
       "    .dataframe tbody tr th {\n",
       "        vertical-align: top;\n",
       "    }\n",
       "\n",
       "    .dataframe thead th {\n",
       "        text-align: right;\n",
       "    }\n",
       "</style>\n",
       "<table border=\"1\" class=\"dataframe\">\n",
       "  <thead>\n",
       "    <tr style=\"text-align: right;\">\n",
       "      <th></th>\n",
       "      <th>transaction_ID</th>\n",
       "      <th>vendor_number</th>\n",
       "      <th>transaction_amount</th>\n",
       "      <th>transaction_type</th>\n",
       "    </tr>\n",
       "  </thead>\n",
       "  <tbody>\n",
       "    <tr>\n",
       "      <th>0</th>\n",
       "      <td>1</td>\n",
       "      <td>279</td>\n",
       "      <td>498957</td>\n",
       "      <td>cash_deposit</td>\n",
       "    </tr>\n",
       "    <tr>\n",
       "      <th>1</th>\n",
       "      <td>2</td>\n",
       "      <td>963</td>\n",
       "      <td>399187</td>\n",
       "      <td>cash_deposit</td>\n",
       "    </tr>\n",
       "    <tr>\n",
       "      <th>2</th>\n",
       "      <td>3</td>\n",
       "      <td>114</td>\n",
       "      <td>1166885</td>\n",
       "      <td>transfer_domestic</td>\n",
       "    </tr>\n",
       "    <tr>\n",
       "      <th>3</th>\n",
       "      <td>4</td>\n",
       "      <td>2165</td>\n",
       "      <td>587304</td>\n",
       "      <td>cash_deposit</td>\n",
       "    </tr>\n",
       "    <tr>\n",
       "      <th>4</th>\n",
       "      <td>5</td>\n",
       "      <td>2491</td>\n",
       "      <td>925095</td>\n",
       "      <td>transfer_international</td>\n",
       "    </tr>\n",
       "  </tbody>\n",
       "</table>\n",
       "</div>"
      ],
      "text/plain": [
       "   transaction_ID  vendor_number  transaction_amount        transaction_type\n",
       "0               1            279              498957            cash_deposit\n",
       "1               2            963              399187            cash_deposit\n",
       "2               3            114             1166885       transfer_domestic\n",
       "3               4           2165              587304            cash_deposit\n",
       "4               5           2491              925095  transfer_international"
      ]
     },
     "execution_count": 2,
     "metadata": {},
     "output_type": "execute_result"
    }
   ],
   "source": [
    "#generate financial transaction \n",
    "\n",
    "import numpy as np\n",
    "import random\n",
    "import pandas as pd\n",
    "\n",
    "#unique transaction id's\n",
    "transaction_id = [i for i in range(1,50001)]\n",
    "\n",
    "#vendor/customer number\n",
    "vendor_number = np.random.randint(low = 1, high = 2500, size = (50000,))\n",
    "\n",
    "#transaction amount\n",
    "transaction_amount = np.random.randint(low = 20, high = 1250000, size = (50000))\n",
    "\n",
    "#transaction type\n",
    "transaction_types = ['cash_withdrawl', 'cash_deposit','transfer_domestic','transfer_international']\n",
    "\n",
    "#generate list of random integers\n",
    "random_integers = [random.randint(0,3) for i in range(0,50000)]\n",
    "transaction_list = [transaction_types[i] for i in random_integers]\n",
    "\n",
    "\n",
    "transaction_data = {\"transaction_ID\": transaction_id,\n",
    "                   \"vendor_number\" : list(vendor_number),\n",
    "                   \"transaction_amount\" : list(transaction_amount),\n",
    "                    \"transaction_type\" : transaction_list,}\n",
    "\n",
    "\n",
    "transaction_DataFrame = pd.DataFrame(transaction_data)\n",
    "\n",
    "# print(transaction_DataFrame[:1])\n",
    "transaction_DataFrame.head()\n",
    "\n"
   ]
  },
  {
   "cell_type": "code",
   "execution_count": 3,
   "id": "54105ea1",
   "metadata": {},
   "outputs": [
    {
     "data": {
      "text/plain": [
       "(50000, 4)"
      ]
     },
     "execution_count": 3,
     "metadata": {},
     "output_type": "execute_result"
    }
   ],
   "source": [
    "transaction_DataFrame.shape"
   ]
  },
  {
   "cell_type": "code",
   "execution_count": 5,
   "id": "atmospheric-fleece",
   "metadata": {},
   "outputs": [],
   "source": [
    "######## Import Data into Maria DB (Optional) ##########\n",
    "\n",
    "import psycopg2.extras\n",
    "import pandas\n",
    "\n",
    "DB_connect = psycopg2.connect(dbname='transac')\n",
    "DB = DB_connect.cursor(cursor_factory = psycopg2.extras.RealDictCursor)\n",
    "\n",
    "insert_statement = \"INSERT into financial_transactions (transaction_id, vendor_number, transaction_amount, transaction_type) values (%s, %s, %s, %s)\"\n",
    "transaction_list = transaction_DataFrame.values.tolist()\n",
    "\n",
    "for i in transaction_list:\n",
    "    DB.execute(insert_statement, i)\n",
    "\n",
    "DB_connect.commit()\n",
    "\n"
   ]
  },
  {
   "cell_type": "code",
   "execution_count": 8,
   "id": "concrete-austria",
   "metadata": {},
   "outputs": [],
   "source": [
    "####### import data into neo4j ##### \n",
    "from neo4j import GraphDatabase\n",
    "\n",
    "transaction_list = transaction_DataFrame.values.tolist()\n",
    "\n",
    "transaction_execution_commands = []\n",
    "\n",
    "for i in transaction_list:\n",
    "    neo4j_create_statemenet = \"create (t:Transaction {transaction_id:\" + str(i[0]) +\", vendor_number:  \" + str(i[1]) +\", transaction_amount: \" + str(i[2]) +\", transaction_type: '\" + str(i[3]) + \"'})\"\n",
    "    transaction_execution_commands.append(neo4j_create_statemenet)\n",
    "\n",
    "    \n",
    "def execute_transactions(transaction_execution_commands):\n",
    "    data_base_connection = GraphDatabase.driver(uri = \"bolt://localhost:7687\") # auth=(\"neo4j\", \"password\"))\n",
    "    session = data_base_connection.session()    \n",
    "    for i in transaction_execution_commands:\n",
    "        session.run(i)\n",
    "\n",
    "        \n",
    "execute_transactions(transaction_execution_commands)"
   ]
  },
  {
   "cell_type": "code",
   "execution_count": null,
   "id": "ancient-relay",
   "metadata": {},
   "outputs": [],
   "source": []
  }
 ],
 "metadata": {
  "kernelspec": {
   "display_name": "Python 3.9.13 ('bigdata-2022-2')",
   "language": "python",
   "name": "python3"
  },
  "language_info": {
   "codemirror_mode": {
    "name": "ipython",
    "version": 3
   },
   "file_extension": ".py",
   "mimetype": "text/x-python",
   "name": "python",
   "nbconvert_exporter": "python",
   "pygments_lexer": "ipython3",
   "version": "3.9.13"
  },
  "vscode": {
   "interpreter": {
    "hash": "ee0e340b373adaa70299d42cd1cb59b0a3467f40584d69eef1fc62bec46809f7"
   }
  }
 },
 "nbformat": 4,
 "nbformat_minor": 5
}
