{
 "cells": [
  {
   "cell_type": "markdown",
   "id": "4fe70bf4",
   "metadata": {},
   "source": [
    "# Chapter 2: Getting Started with Ray Core"
   ]
  },
  {
   "cell_type": "markdown",
   "id": "1b1b8306",
   "metadata": {
    "lines_to_next_cell": 2
   },
   "source": [
    "For a book on distributed Python, it's not without a certain irony that Python on its own is\n",
    "largely ineffective for distributed computing.\n",
    "Its interpreter is effectively single threaded which makes it difficult to e.g. leverage multiple CPUs on\n",
    "the same machine, let alone a whole cluster of machines, using plain Python.\n",
    "That means you need extra tooling, and luckily the Python ecosystem has some options for you.\n",
    "For instance, libraries like `multiprocessing` can help you distribute work on a single machine, but not beyond."
   ]
  },
  {
   "cell_type": "code",
   "execution_count": null,
   "id": "95c830cb",
   "metadata": {},
   "outputs": [],
   "source": [
    "import ray\n",
    "ray.init()"
   ]
  },
  {
   "cell_type": "code",
   "execution_count": null,
   "id": "de18d562",
   "metadata": {},
   "outputs": [],
   "source": [
    "# tag::retrieve[]\n",
    "import time\n",
    "\n",
    "database = [  # <1>\n",
    "    \"Learning\", \"Ray\",\n",
    "    \"Flexible\", \"Distributed\", \"Python\", \"for\", \"Data\", \"Science\"\n",
    "]\n",
    "\n",
    "\n",
    "def retrieve(item):\n",
    "    time.sleep(item / 10.)  # <2>\n",
    "    return item, database[item]\n",
    "# end::retrieve[]"
   ]
  },
  {
   "cell_type": "code",
   "execution_count": null,
   "id": "19ff860d",
   "metadata": {
    "lines_to_next_cell": 2
   },
   "outputs": [],
   "source": [
    "# tag::duration[]\n",
    "def print_runtime(input_data, start_time, decimals=1):\n",
    "    print(f'Runtime: {time.time() - start_time:.{decimals}f} seconds, data:')\n",
    "    print(*input_data, sep=\"\\n\")\n",
    "\n",
    "\n",
    "start = time.time()\n",
    "data = [retrieve(item) for item in range(8)]  # <1>\n",
    "print_runtime(data, start)  # <2>\n",
    "# end::duration[]"
   ]
  },
  {
   "cell_type": "code",
   "execution_count": null,
   "id": "3bf5aa39",
   "metadata": {},
   "outputs": [],
   "source": [
    "# tag::remote[]\n",
    "@ray.remote  # <1>\n",
    "def retrieve_task(item):\n",
    "    return retrieve(item)  # <2>\n",
    "# end::remote[]"
   ]
  },
  {
   "cell_type": "code",
   "execution_count": null,
   "id": "85f19248",
   "metadata": {},
   "outputs": [],
   "source": [
    "# tag::duration_remote[]\n",
    "start = time.time()\n",
    "data_references = [  # <1>\n",
    "    retrieve_task.remote(item) for item in range(8)\n",
    "]\n",
    "data = ray.get(data_references)  # <2>\n",
    "print_runtime(data, start, 2)\n",
    "# end::duration_remote[]"
   ]
  },
  {
   "cell_type": "code",
   "execution_count": null,
   "id": "74b84b00",
   "metadata": {},
   "outputs": [],
   "source": [
    "# tag::object_store[]\n",
    "database_object_ref = ray.put(database)  # <1>\n",
    "\n",
    "\n",
    "@ray.remote\n",
    "def retrieve_task(item):\n",
    "    obj_store_data = ray.get(database_object_ref)  # <2>\n",
    "    time.sleep(item / 10.)\n",
    "    return item, obj_store_data[item]\n",
    "# end::object_store[]"
   ]
  },
  {
   "cell_type": "code",
   "execution_count": null,
   "id": "e7a919e3",
   "metadata": {},
   "outputs": [],
   "source": [
    "# tag::duration_object_store[]\n",
    "start = time.time()\n",
    "data_references = [retrieve_task.remote(item) for item in range(8)]\n",
    "all_data = []\n",
    "\n",
    "while len(data_references) > 0:  # <1>\n",
    "    finished, data_references = ray.wait(  # <2>\n",
    "        data_references, num_returns=2, timeout=7.0\n",
    "    )\n",
    "    data = ray.get(finished)\n",
    "    print_runtime(data, start, 3)  # <3>\n",
    "    all_data.extend(data)  # <4>\n",
    "\n",
    "# end::duration_object_store[]\n",
    "print_runtime(all_data, start)"
   ]
  },
  {
   "cell_type": "code",
   "execution_count": null,
   "id": "111c7fe4",
   "metadata": {},
   "outputs": [],
   "source": [
    "# tag::task_dependency[]\n",
    "@ray.remote\n",
    "def follow_up_task(retrieve_result):  # <1>\n",
    "    original_item, _ = retrieve_result\n",
    "    follow_up_result = retrieve(original_item + 1)  # <2>\n",
    "    return retrieve_result, follow_up_result  # <3>\n",
    "\n",
    "\n",
    "retrieve_refs = [retrieve_task.remote(item) for item in [0, 2, 4, 6]]\n",
    "follow_up_refs = [follow_up_task.remote(ref) for ref in retrieve_refs]  # <4>\n",
    "\n",
    "result = [print(data) for data in ray.get(follow_up_refs)]\n",
    "# end::task_dependency[]"
   ]
  },
  {
   "cell_type": "code",
   "execution_count": null,
   "id": "54ac36a7",
   "metadata": {},
   "outputs": [],
   "source": [
    "# tag::actors[]\n",
    "@ray.remote  # <1>\n",
    "class DataTracker:\n",
    "    def __init__(self):\n",
    "        self._counts = 0\n",
    "\n",
    "    def increment(self):\n",
    "        self._counts += 1\n",
    "\n",
    "    def counts(self):\n",
    "        return self._counts\n",
    "# end::actors[]"
   ]
  },
  {
   "cell_type": "code",
   "execution_count": null,
   "id": "569e3dae",
   "metadata": {
    "lines_to_next_cell": 2
   },
   "outputs": [],
   "source": [
    "# tag::actors_remote[]\n",
    "@ray.remote\n",
    "def retrieve_tracker_task(item, tracker):  # <1>\n",
    "    obj_store_data = ray.get(database_object_ref)\n",
    "    time.sleep(item / 10.)\n",
    "    tracker.increment.remote()  # <2>\n",
    "    return item, obj_store_data[item]\n",
    "\n",
    "\n",
    "tracker = DataTracker.remote()  # <3>\n",
    "\n",
    "data_references = [  # <4>\n",
    "    retrieve_tracker_task.remote(item, tracker) for item in range(8)\n",
    "]\n",
    "data = ray.get(data_references)\n",
    "print(ray.get(tracker.counts.remote()))  # <5>\n",
    "# end::actors_remote[]"
   ]
  },
  {
   "cell_type": "code",
   "execution_count": null,
   "id": "69d20a3d",
   "metadata": {},
   "outputs": [],
   "source": [
    "# tag::ownership[]\n",
    "@ray.remote\n",
    "def task_owned():\n",
    "    return\n",
    "\n",
    "\n",
    "@ray.remote\n",
    "def task(dependency):\n",
    "    res_owned = task_owned.remote()\n",
    "    return\n",
    "\n",
    "\n",
    "val = ray.put(\"value\")\n",
    "res = task.remote(dependency=val)\n",
    "# end::ownership[]"
   ]
  },
  {
   "cell_type": "markdown",
   "id": "aa098a3e",
   "metadata": {
    "lines_to_next_cell": 2
   },
   "source": [
    "# ![Task dependency](https://raw.githubusercontent.com/maxpumperla/learning_ray/main/notebooks/images/chapter_02/task_dependency.png)"
   ]
  },
  {
   "cell_type": "markdown",
   "id": "275cbfd5",
   "metadata": {
    "lines_to_next_cell": 2
   },
   "source": [
    "# ![Workder Node](https://raw.githubusercontent.com/maxpumperla/learning_ray/main/notebooks/images/chapter_02/worker_node.png)"
   ]
  },
  {
   "cell_type": "markdown",
   "id": "d4a3ae0d",
   "metadata": {},
   "source": [
    "# ![Ray architecture](https://raw.githubusercontent.com/maxpumperla/learning_ray/main/notebooks/images/chapter_02/architecture.png)"
   ]
  },
  {
   "cell_type": "code",
   "execution_count": null,
   "id": "75f3b60b",
   "metadata": {},
   "outputs": [],
   "source": [
    "\n",
    "\n",
    "# tag::map_fct[]\n",
    "def map_function(document):\n",
    "    for word in document.lower().split():\n",
    "        yield word, 1\n",
    "# end::map_fct[]\n",
    "\n",
    "\n",
    "# tag::map[]\n",
    "import ray\n",
    "\n",
    "\n",
    "@ray.remote\n",
    "def apply_map(corpus):\n",
    "    map_results = []\n",
    "    for document in corpus:\n",
    "        for result in map_function(document):\n",
    "            map_results.append(result)\n",
    "    return map_results\n",
    "# end::map[]\n",
    "\n",
    "\n",
    "# tag::shuffle[]\n",
    "@ray.remote\n",
    "def apply_shuffle(map_results):\n",
    "    shuffle_results = dict()\n",
    "    for key, value in map_results:\n",
    "        if key not in shuffle_results:\n",
    "            shuffle_results[key] = []\n",
    "        shuffle_results[key].append(value)\n",
    "    return shuffle_results\n",
    "# end::shuffle[]\n",
    "\n",
    "\n",
    "# tag::reduce[]\n",
    "def reduce_function(key, values):\n",
    "    total = 0\n",
    "    for count in values:\n",
    "        total += count\n",
    "    return key, total\n",
    "\n",
    "\n",
    "@ray.remote\n",
    "def apply_reduce(shuffle_results):\n",
    "    reduce_results = dict()\n",
    "    for key, values in shuffle_results.items():\n",
    "        _, count = reduce_function(key, values)\n",
    "        reduce_results[key] = count\n",
    "    return reduce_results\n",
    "# end::reduce[]\n",
    "\n",
    "\n",
    "# tag::apply_mr[]\n",
    "import subprocess\n",
    "zen_of_python = subprocess.check_output([\"python\", \"-c\", \"import this\"])\n",
    "text_data = zen_of_python.split()\n",
    "\n",
    "\n",
    "map_results = apply_map.remote(text_data)\n",
    "group_results = apply_shuffle.remote(map_results)\n",
    "reduce_results = apply_reduce.remote(group_results)\n",
    "counts = ray.get(reduce_results)\n",
    "\n",
    "sorted_counts = sorted(counts.items(), key=lambda kv: kv[1], reverse=True)\n",
    "print(sorted_counts)\n",
    "# end::apply_mr[]"
   ]
  }
 ],
 "metadata": {
  "jupytext": {
   "cell_metadata_filter": "-all",
   "main_language": "python",
   "notebook_metadata_filter": "-all"
  }
 },
 "nbformat": 4,
 "nbformat_minor": 5
}
