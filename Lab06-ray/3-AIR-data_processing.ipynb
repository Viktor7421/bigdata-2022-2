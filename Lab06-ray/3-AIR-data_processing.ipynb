{
 "cells": [
  {
   "cell_type": "code",
   "execution_count": 1,
   "id": "d0177e06",
   "metadata": {
    "lines_to_next_cell": 2
   },
   "outputs": [
    {
     "name": "stderr",
     "output_type": "stream",
     "text": [
      "2022-10-05 03:18:22,730\tINFO worker.py:1518 -- Started a local Ray instance.\n"
     ]
    },
    {
     "name": "stdout",
     "output_type": "stream",
     "text": [
      "10000\n",
      "[0, 1, 2, 3, 4]\n",
      "<class 'int'>\n"
     ]
    }
   ],
   "source": [
    "# tag::ds_create[]\n",
    "import ray\n",
    "\n",
    "# Create a dataset containing integers in the range [0, 10000).\n",
    "ds = ray.data.range(10000)\n",
    "\n",
    "# Basic operations: show the size of the dataset, get a few samples, print the schema.\n",
    "print(ds.count())  # -> 10000\n",
    "print(ds.take(5))  # -> [0, 1, 2, 3, 4]\n",
    "print(ds.schema())  # -> <class 'int'>\n",
    "# end::ds_create[]"
   ]
  },
  {
   "cell_type": "code",
   "execution_count": 2,
   "id": "17192aa0",
   "metadata": {
    "lines_to_next_cell": 2
   },
   "outputs": [
    {
     "name": "stderr",
     "output_type": "stream",
     "text": [
      "Read progress: 100%|██████████| 25/25 [00:01<00:00, 20.24it/s]\n",
      "Write Progress: 100%|██████████| 25/25 [00:00<00:00, 502.48it/s]\n",
      "Read progress: 100%|██████████| 24/24 [00:01<00:00, 21.22it/s]"
     ]
    },
    {
     "name": "stdout",
     "output_type": "stream",
     "text": [
      "10000\n"
     ]
    },
    {
     "name": "stderr",
     "output_type": "stream",
     "text": [
      "\n"
     ]
    }
   ],
   "source": [
    "# tag::ds_read_write[]\n",
    "# Save the dataset to a local file and load it back.\n",
    "ray.data.range(10000).write_csv(\"local_dir\")\n",
    "ds = ray.data.read_csv(\"local_dir\")\n",
    "print(ds.count())\n",
    "# end::ds_read_write[]"
   ]
  },
  {
   "cell_type": "code",
   "execution_count": 3,
   "id": "10b5fc05",
   "metadata": {},
   "outputs": [
    {
     "data": {
      "text/plain": [
       "Dataset(num_blocks=24, num_rows=10000, schema={value: int64})"
      ]
     },
     "execution_count": 3,
     "metadata": {},
     "output_type": "execute_result"
    }
   ],
   "source": [
    "ds"
   ]
  },
  {
   "cell_type": "code",
   "execution_count": 6,
   "id": "e0a01d84",
   "metadata": {},
   "outputs": [
    {
     "data": {
      "text/plain": [
       "[ArrowRow({'value': 0}), ArrowRow({'value': 1}), ArrowRow({'value': 2})]"
      ]
     },
     "execution_count": 6,
     "metadata": {},
     "output_type": "execute_result"
    }
   ],
   "source": [
    "ds.take(3)"
   ]
  },
  {
   "cell_type": "code",
   "execution_count": 8,
   "id": "34e0df15",
   "metadata": {},
   "outputs": [
    {
     "data": {
      "text/plain": [
       "[ObjectRef(91581beb08e6c9deffffffffffffffffffffffff0100000001000000),\n",
       " ObjectRef(ae46b8beecd25f3affffffffffffffffffffffff0100000001000000),\n",
       " ObjectRef(aa3d5d11e415fe88ffffffffffffffffffffffff0100000001000000),\n",
       " ObjectRef(a6d6d59239756144ffffffffffffffffffffffff0100000001000000),\n",
       " ObjectRef(c7528efcb2fd36edffffffffffffffffffffffff0100000001000000),\n",
       " ObjectRef(6efb86ef2d286c40ffffffffffffffffffffffff0100000001000000),\n",
       " ObjectRef(89af82725933373effffffffffffffffffffffff0100000001000000),\n",
       " ObjectRef(5168ff79929289e3ffffffffffffffffffffffff0100000001000000),\n",
       " ObjectRef(3e43f22e6ab31cdcffffffffffffffffffffffff0100000001000000),\n",
       " ObjectRef(594c3bb38e594811ffffffffffffffffffffffff0100000001000000),\n",
       " ObjectRef(64ac0404a8f0916fffffffffffffffffffffffff0100000001000000),\n",
       " ObjectRef(cf9aed5eec5a308bffffffffffffffffffffffff0100000001000000),\n",
       " ObjectRef(4f4ef6205ce35f90ffffffffffffffffffffffff0100000001000000),\n",
       " ObjectRef(17ed96eaf1aa4b2affffffffffffffffffffffff0100000001000000),\n",
       " ObjectRef(28c7376153a43fb1ffffffffffffffffffffffff0100000001000000),\n",
       " ObjectRef(7109b8141612f944ffffffffffffffffffffffff0100000001000000),\n",
       " ObjectRef(8c4854248414f633ffffffffffffffffffffffff0100000001000000),\n",
       " ObjectRef(9a0afb4ce5b46f16ffffffffffffffffffffffff0100000001000000),\n",
       " ObjectRef(261bd10b0466d7e8ffffffffffffffffffffffff0100000001000000),\n",
       " ObjectRef(b9a008d165a7e804ffffffffffffffffffffffff0100000001000000),\n",
       " ObjectRef(a8485d936ac2e7ccffffffffffffffffffffffff0100000001000000),\n",
       " ObjectRef(b58f0ee91e0a9599ffffffffffffffffffffffff0100000001000000),\n",
       " ObjectRef(0cb7b64917b5af44ffffffffffffffffffffffff0100000001000000),\n",
       " ObjectRef(b5f40f7c7d38fc79ffffffffffffffffffffffff0100000001000000)]"
      ]
     },
     "execution_count": 8,
     "metadata": {},
     "output_type": "execute_result"
    }
   ],
   "source": [
    "ds.get_internal_block_refs()"
   ]
  },
  {
   "cell_type": "code",
   "execution_count": 11,
   "id": "83194ae9",
   "metadata": {},
   "outputs": [
    {
     "name": "stdout",
     "output_type": "stream",
     "text": [
      "     value\n",
      "0        0\n",
      "1        1\n",
      "2        2\n",
      "3        3\n",
      "4        4\n",
      "..     ...\n",
      "251    251\n",
      "252    252\n",
      "253    253\n",
      "254    254\n",
      "255    255\n",
      "\n",
      "[256 rows x 1 columns]\n",
      "     value\n",
      "0      256\n",
      "1      257\n",
      "2      258\n",
      "3      259\n",
      "4      260\n",
      "..     ...\n",
      "251    507\n",
      "252    508\n",
      "253    509\n",
      "254    510\n",
      "255    511\n",
      "\n",
      "[256 rows x 1 columns]\n",
      "     value\n",
      "0      512\n",
      "1      513\n",
      "2      514\n",
      "3      515\n",
      "4      516\n",
      "..     ...\n",
      "251    763\n",
      "252    764\n",
      "253    765\n",
      "254    766\n",
      "255    767\n",
      "\n",
      "[256 rows x 1 columns]\n",
      "     value\n",
      "0      768\n",
      "1      769\n",
      "2      770\n",
      "3      771\n",
      "4      772\n",
      "..     ...\n",
      "251   1019\n",
      "252   1020\n",
      "253   1021\n",
      "254   1022\n",
      "255   1023\n",
      "\n",
      "[256 rows x 1 columns]\n",
      "     value\n",
      "0     1024\n",
      "1     1025\n",
      "2     1026\n",
      "3     1027\n",
      "4     1028\n",
      "..     ...\n",
      "251   1275\n",
      "252   1276\n",
      "253   1277\n",
      "254   1278\n",
      "255   1279\n",
      "\n",
      "[256 rows x 1 columns]\n",
      "     value\n",
      "0     1280\n",
      "1     1281\n",
      "2     1282\n",
      "3     1283\n",
      "4     1284\n",
      "..     ...\n",
      "251   1531\n",
      "252   1532\n",
      "253   1533\n",
      "254   1534\n",
      "255   1535\n",
      "\n",
      "[256 rows x 1 columns]\n",
      "     value\n",
      "0     1536\n",
      "1     1537\n",
      "2     1538\n",
      "3     1539\n",
      "4     1540\n",
      "..     ...\n",
      "251   1787\n",
      "252   1788\n",
      "253   1789\n",
      "254   1790\n",
      "255   1791\n",
      "\n",
      "[256 rows x 1 columns]\n",
      "     value\n",
      "0     1792\n",
      "1     1793\n",
      "2     1794\n",
      "3     1795\n",
      "4     1796\n",
      "..     ...\n",
      "251   2043\n",
      "252   2044\n",
      "253   2045\n",
      "254   2046\n",
      "255   2047\n",
      "\n",
      "[256 rows x 1 columns]\n",
      "     value\n",
      "0     2048\n",
      "1     2049\n",
      "2     2050\n",
      "3     2051\n",
      "4     2052\n",
      "..     ...\n",
      "251   2299\n",
      "252   2300\n",
      "253   2301\n",
      "254   2302\n",
      "255   2303\n",
      "\n",
      "[256 rows x 1 columns]\n",
      "     value\n",
      "0     2304\n",
      "1     2305\n",
      "2     2306\n",
      "3     2307\n",
      "4     2308\n",
      "..     ...\n",
      "251   2555\n",
      "252   2556\n",
      "253   2557\n",
      "254   2558\n",
      "255   2559\n",
      "\n",
      "[256 rows x 1 columns]\n",
      "     value\n",
      "0     2560\n",
      "1     2561\n",
      "2     2562\n",
      "3     2563\n",
      "4     2564\n",
      "..     ...\n",
      "251   2811\n",
      "252   2812\n",
      "253   2813\n",
      "254   2814\n",
      "255   2815\n",
      "\n",
      "[256 rows x 1 columns]\n",
      "     value\n",
      "0     2816\n",
      "1     2817\n",
      "2     2818\n",
      "3     2819\n",
      "4     2820\n",
      "..     ...\n",
      "251   3067\n",
      "252   3068\n",
      "253   3069\n",
      "254   3070\n",
      "255   3071\n",
      "\n",
      "[256 rows x 1 columns]\n",
      "     value\n",
      "0     3072\n",
      "1     3073\n",
      "2     3074\n",
      "3     3075\n",
      "4     3076\n",
      "..     ...\n",
      "251   3323\n",
      "252   3324\n",
      "253   3325\n",
      "254   3326\n",
      "255   3327\n",
      "\n",
      "[256 rows x 1 columns]\n",
      "     value\n",
      "0     3328\n",
      "1     3329\n",
      "2     3330\n",
      "3     3331\n",
      "4     3332\n",
      "..     ...\n",
      "251   3579\n",
      "252   3580\n",
      "253   3581\n",
      "254   3582\n",
      "255   3583\n",
      "\n",
      "[256 rows x 1 columns]\n",
      "     value\n",
      "0     3584\n",
      "1     3585\n",
      "2     3586\n",
      "3     3587\n",
      "4     3588\n",
      "..     ...\n",
      "251   3835\n",
      "252   3836\n",
      "253   3837\n",
      "254   3838\n",
      "255   3839\n",
      "\n",
      "[256 rows x 1 columns]\n",
      "     value\n",
      "0     3840\n",
      "1     3841\n",
      "2     3842\n",
      "3     3843\n",
      "4     3844\n",
      "..     ...\n",
      "251   4091\n",
      "252   4092\n",
      "253   4093\n",
      "254   4094\n",
      "255   4095\n",
      "\n",
      "[256 rows x 1 columns]\n",
      "     value\n",
      "0     4096\n",
      "1     4097\n",
      "2     4098\n",
      "3     4099\n",
      "4     4100\n",
      "..     ...\n",
      "251   4347\n",
      "252   4348\n",
      "253   4349\n",
      "254   4350\n",
      "255   4351\n",
      "\n",
      "[256 rows x 1 columns]\n",
      "     value\n",
      "0     4352\n",
      "1     4353\n",
      "2     4354\n",
      "3     4355\n",
      "4     4356\n",
      "..     ...\n",
      "251   4603\n",
      "252   4604\n",
      "253   4605\n",
      "254   4606\n",
      "255   4607\n",
      "\n",
      "[256 rows x 1 columns]\n",
      "     value\n",
      "0     4608\n",
      "1     4609\n",
      "2     4610\n",
      "3     4611\n",
      "4     4612\n",
      "..     ...\n",
      "251   4859\n",
      "252   4860\n",
      "253   4861\n",
      "254   4862\n",
      "255   4863\n",
      "\n",
      "[256 rows x 1 columns]\n",
      "     value\n",
      "0     4864\n",
      "1     4865\n",
      "2     4866\n",
      "3     4867\n",
      "4     4868\n",
      "..     ...\n",
      "251   5115\n",
      "252   5116\n",
      "253   5117\n",
      "254   5118\n",
      "255   5119\n",
      "\n",
      "[256 rows x 1 columns]\n",
      "     value\n",
      "0     5120\n",
      "1     5121\n",
      "2     5122\n",
      "3     5123\n",
      "4     5124\n",
      "..     ...\n",
      "251   5371\n",
      "252   5372\n",
      "253   5373\n",
      "254   5374\n",
      "255   5375\n",
      "\n",
      "[256 rows x 1 columns]\n",
      "     value\n",
      "0     5376\n",
      "1     5377\n",
      "2     5378\n",
      "3     5379\n",
      "4     5380\n",
      "..     ...\n",
      "251   5627\n",
      "252   5628\n",
      "253   5629\n",
      "254   5630\n",
      "255   5631\n",
      "\n",
      "[256 rows x 1 columns]\n",
      "     value\n",
      "0     5632\n",
      "1     5633\n",
      "2     5634\n",
      "3     5635\n",
      "4     5636\n",
      "..     ...\n",
      "251   5883\n",
      "252   5884\n",
      "253   5885\n",
      "254   5886\n",
      "255   5887\n",
      "\n",
      "[256 rows x 1 columns]\n",
      "     value\n",
      "0     5888\n",
      "1     5889\n",
      "2     5890\n",
      "3     5891\n",
      "4     5892\n",
      "..     ...\n",
      "251   6139\n",
      "252   6140\n",
      "253   6141\n",
      "254   6142\n",
      "255   6143\n",
      "\n",
      "[256 rows x 1 columns]\n",
      "     value\n",
      "0     6144\n",
      "1     6145\n",
      "2     6146\n",
      "3     6147\n",
      "4     6148\n",
      "..     ...\n",
      "251   6395\n",
      "252   6396\n",
      "253   6397\n",
      "254   6398\n",
      "255   6399\n",
      "\n",
      "[256 rows x 1 columns]\n",
      "     value\n",
      "0     6400\n",
      "1     6401\n",
      "2     6402\n",
      "3     6403\n",
      "4     6404\n",
      "..     ...\n",
      "251   6651\n",
      "252   6652\n",
      "253   6653\n",
      "254   6654\n",
      "255   6655\n",
      "\n",
      "[256 rows x 1 columns]\n",
      "     value\n",
      "0     6656\n",
      "1     6657\n",
      "2     6658\n",
      "3     6659\n",
      "4     6660\n",
      "..     ...\n",
      "251   6907\n",
      "252   6908\n",
      "253   6909\n",
      "254   6910\n",
      "255   6911\n",
      "\n",
      "[256 rows x 1 columns]\n",
      "     value\n",
      "0     6912\n",
      "1     6913\n",
      "2     6914\n",
      "3     6915\n",
      "4     6916\n",
      "..     ...\n",
      "251   7163\n",
      "252   7164\n",
      "253   7165\n",
      "254   7166\n",
      "255   7167\n",
      "\n",
      "[256 rows x 1 columns]\n",
      "     value\n",
      "0     7168\n",
      "1     7169\n",
      "2     7170\n",
      "3     7171\n",
      "4     7172\n",
      "..     ...\n",
      "251   7419\n",
      "252   7420\n",
      "253   7421\n",
      "254   7422\n",
      "255   7423\n",
      "\n",
      "[256 rows x 1 columns]\n",
      "     value\n",
      "0     7424\n",
      "1     7425\n",
      "2     7426\n",
      "3     7427\n",
      "4     7428\n",
      "..     ...\n",
      "251   7675\n",
      "252   7676\n",
      "253   7677\n",
      "254   7678\n",
      "255   7679\n",
      "\n",
      "[256 rows x 1 columns]\n",
      "     value\n",
      "0     7680\n",
      "1     7681\n",
      "2     7682\n",
      "3     7683\n",
      "4     7684\n",
      "..     ...\n",
      "251   7931\n",
      "252   7932\n",
      "253   7933\n",
      "254   7934\n",
      "255   7935\n",
      "\n",
      "[256 rows x 1 columns]\n",
      "     value\n",
      "0     7936\n",
      "1     7937\n",
      "2     7938\n",
      "3     7939\n",
      "4     7940\n",
      "..     ...\n",
      "251   8187\n",
      "252   8188\n",
      "253   8189\n",
      "254   8190\n",
      "255   8191\n",
      "\n",
      "[256 rows x 1 columns]\n",
      "     value\n",
      "0     8192\n",
      "1     8193\n",
      "2     8194\n",
      "3     8195\n",
      "4     8196\n",
      "..     ...\n",
      "251   8443\n",
      "252   8444\n",
      "253   8445\n",
      "254   8446\n",
      "255   8447\n",
      "\n",
      "[256 rows x 1 columns]\n",
      "     value\n",
      "0     8448\n",
      "1     8449\n",
      "2     8450\n",
      "3     8451\n",
      "4     8452\n",
      "..     ...\n",
      "251   8699\n",
      "252   8700\n",
      "253   8701\n",
      "254   8702\n",
      "255   8703\n",
      "\n",
      "[256 rows x 1 columns]\n",
      "     value\n",
      "0     8704\n",
      "1     8705\n",
      "2     8706\n",
      "3     8707\n",
      "4     8708\n",
      "..     ...\n",
      "251   8955\n",
      "252   8956\n",
      "253   8957\n",
      "254   8958\n",
      "255   8959\n",
      "\n",
      "[256 rows x 1 columns]\n",
      "     value\n",
      "0     8960\n",
      "1     8961\n",
      "2     8962\n",
      "3     8963\n",
      "4     8964\n",
      "..     ...\n",
      "251   9211\n",
      "252   9212\n",
      "253   9213\n",
      "254   9214\n",
      "255   9215\n",
      "\n",
      "[256 rows x 1 columns]\n",
      "     value\n",
      "0     9216\n",
      "1     9217\n",
      "2     9218\n",
      "3     9219\n",
      "4     9220\n",
      "..     ...\n",
      "251   9467\n",
      "252   9468\n",
      "253   9469\n",
      "254   9470\n",
      "255   9471\n",
      "\n",
      "[256 rows x 1 columns]\n",
      "     value\n",
      "0     9472\n",
      "1     9473\n",
      "2     9474\n",
      "3     9475\n",
      "4     9476\n",
      "..     ...\n",
      "251   9723\n",
      "252   9724\n",
      "253   9725\n",
      "254   9726\n",
      "255   9727\n",
      "\n",
      "[256 rows x 1 columns]\n",
      "     value\n",
      "0     9728\n",
      "1     9729\n",
      "2     9730\n",
      "3     9731\n",
      "4     9732\n",
      "..     ...\n",
      "251   9979\n",
      "252   9980\n",
      "253   9981\n",
      "254   9982\n",
      "255   9983\n",
      "\n",
      "[256 rows x 1 columns]\n",
      "    value\n",
      "0    9984\n",
      "1    9985\n",
      "2    9986\n",
      "3    9987\n",
      "4    9988\n",
      "5    9989\n",
      "6    9990\n",
      "7    9991\n",
      "8    9992\n",
      "9    9993\n",
      "10   9994\n",
      "11   9995\n",
      "12   9996\n",
      "13   9997\n",
      "14   9998\n",
      "15   9999\n"
     ]
    }
   ],
   "source": [
    "for i in ds.iter_batches():\n",
    "    print(i)"
   ]
  },
  {
   "cell_type": "code",
   "execution_count": 16,
   "id": "3fe56fdd",
   "metadata": {
    "lines_to_next_cell": 2
   },
   "outputs": [
    {
     "name": "stderr",
     "output_type": "stream",
     "text": [
      "2022-10-05 03:33:51,346\tWARNING dataset.py:3662 -- The `map`, `flat_map`, and `filter` operations are unvectorized and can be very slow. Consider using `.map_batches()` instead.\n"
     ]
    },
    {
     "name": "stdout",
     "output_type": "stream",
     "text": [
      "20000\n"
     ]
    },
    {
     "name": "stderr",
     "output_type": "stream",
     "text": [
      "Read->Filter: 100%|██████████| 50/50 [00:01<00:00, 25.20it/s]\n"
     ]
    },
    {
     "name": "stdout",
     "output_type": "stream",
     "text": [
      "10000\n",
      "[0, 2, 4, 6, 8]\n"
     ]
    },
    {
     "name": "stderr",
     "output_type": "stream",
     "text": [
      "Sort Sample: 100%|██████████| 50/50 [00:00<00:00, 106.53it/s]\n",
      "Shuffle Map: 100%|██████████| 50/50 [00:00<00:00, 550.34it/s]\n",
      "Shuffle Reduce: 100%|██████████| 50/50 [00:00<00:00, 509.24it/s]"
     ]
    },
    {
     "name": "stdout",
     "output_type": "stream",
     "text": [
      "[0, 0, 2, 2, 4]\n"
     ]
    },
    {
     "name": "stderr",
     "output_type": "stream",
     "text": [
      "\n"
     ]
    }
   ],
   "source": [
    "# tag::ds_transform[]\n",
    "# Basic transformations: join two datasets, filter, and sort.\n",
    "ds1 = ray.data.range(10000)\n",
    "ds2 = ray.data.range(10000)\n",
    "ds3 = ds1.union(ds2)\n",
    "print(ds3.count())  # -> 20000\n",
    "\n",
    "# Filter the combined dataset to only the even elements.\n",
    "ds3 = ds3.filter(lambda x: x % 2 == 0)\n",
    "print(ds3.count())  # -> 10000\n",
    "print(ds3.take(5))  # -> [0, 2, 4, 6, 8]\n",
    "\n",
    "# Sort the filtered dataset.\n",
    "ds3 = ds3.sort()\n",
    "print(ds3.take(5))  # -> [0, 0, 2, 2, 4]\n",
    "# end::ds_transform[]\n"
   ]
  },
  {
   "cell_type": "code",
   "execution_count": 20,
   "id": "1ee04a49",
   "metadata": {
    "lines_to_next_cell": 2
   },
   "outputs": [
    {
     "name": "stdout",
     "output_type": "stream",
     "text": [
      "25\n",
      "25\n",
      "50\n"
     ]
    },
    {
     "name": "stderr",
     "output_type": "stream",
     "text": [
      "Read:  70%|███████   | 35/50 [00:00<00:00, 344.88it/s]\u001b[2m\u001b[36m(_map_block_nosplit pid=9957)\u001b[0m E1005 03:40:49.219019433   10012 chttp2_transport.cc:1103]   Received a GOAWAY with error code ENHANCE_YOUR_CALM and debug data equal to \"too_many_pings\"\n",
      "Read: 100%|██████████| 50/50 [00:02<00:00, 23.32it/s] \n",
      "Repartition: 100%|██████████| 200/200 [00:00<00:00, 1093.16it/s]"
     ]
    },
    {
     "name": "stdout",
     "output_type": "stream",
     "text": [
      "200\n"
     ]
    },
    {
     "name": "stderr",
     "output_type": "stream",
     "text": [
      "\n"
     ]
    }
   ],
   "source": [
    "# tag::ds_repartition[]\n",
    "ds1 = ray.data.range(10000)\n",
    "print(ds1.num_blocks())  # -> 25 - 200\n",
    "ds2 = ray.data.range(10000) \n",
    "print(ds2.num_blocks())  # -> 25 - 200\n",
    "ds3 = ds1.union(ds2)\n",
    "print(ds3.num_blocks())  # -> 50 - 400\n",
    "\n",
    "print(ds3.repartition(200).num_blocks())  # -> 200\n",
    "# end::ds_repartition[]"
   ]
  },
  {
   "cell_type": "code",
   "execution_count": 22,
   "id": "154cebce",
   "metadata": {},
   "outputs": [
    {
     "data": {
      "text/plain": [
       "Dataset(num_blocks=50, num_rows=20000, schema=<class 'int'>)"
      ]
     },
     "execution_count": 22,
     "metadata": {},
     "output_type": "execute_result"
    }
   ],
   "source": [
    "ds3"
   ]
  },
  {
   "cell_type": "code",
   "execution_count": 27,
   "id": "b37ea9ad",
   "metadata": {
    "lines_to_next_cell": 2
   },
   "outputs": [
    {
     "name": "stdout",
     "output_type": "stream",
     "text": [
      "id: string\n",
      "value: int64\n"
     ]
    }
   ],
   "source": [
    "# tag::ds_schema_1[]\n",
    "ds = ray.data.from_items([{\"id\": \"abc\", \"value\": 1}, {\"id\": \"def\", \"value\": 2}])\n",
    "print(ds.schema())  # -> id: string, value: int64\n",
    "# end::ds_schema_1[]"
   ]
  },
  {
   "cell_type": "code",
   "execution_count": 28,
   "id": "17a7b233",
   "metadata": {
    "lines_to_next_cell": 2
   },
   "outputs": [],
   "source": [
    "# tag::ds_schema_2[]\n",
    "pandas_df = ds.to_pandas()  # pandas_df will inherit the schema from our Dataset.\n",
    "# end::ds_schema_2[]"
   ]
  },
  {
   "cell_type": "code",
   "execution_count": 29,
   "id": "902f2ba0",
   "metadata": {
    "lines_to_next_cell": 2
   },
   "outputs": [
    {
     "name": "stderr",
     "output_type": "stream",
     "text": [
      "Read->Map:   0%|          | 0/25 [00:00<?, ?it/s]\u001b[2m\u001b[36m(reduce pid=11424)\u001b[0m E1005 03:44:48.104876349   11458 chttp2_transport.cc:1103]   Received a GOAWAY with error code ENHANCE_YOUR_CALM and debug data equal to \"too_many_pings\"\n",
      "Read->Map: 100%|██████████| 25/25 [00:02<00:00, 10.91it/s]\n"
     ]
    },
    {
     "data": {
      "text/plain": [
       "[0, 1, 4, 9, 16]"
      ]
     },
     "execution_count": 29,
     "metadata": {},
     "output_type": "execute_result"
    }
   ],
   "source": [
    "# tag::ds_compute_1[]\n",
    "ds = ray.data.range(10000).map(lambda x: x ** 2)\n",
    "ds.take(5)  # -> [0, 1, 4, 9, 16]\n",
    "# end::ds_compute_1[]"
   ]
  },
  {
   "cell_type": "code",
   "execution_count": 30,
   "id": "87ef9bfa",
   "metadata": {
    "lines_to_next_cell": 2
   },
   "outputs": [
    {
     "name": "stderr",
     "output_type": "stream",
     "text": [
      "Read->Map_Batches: 100%|██████████| 25/25 [00:00<00:00, 52.29it/s]\n"
     ]
    },
    {
     "data": {
      "text/plain": [
       "[0, 1, 4, 9, 16]"
      ]
     },
     "execution_count": 30,
     "metadata": {},
     "output_type": "execute_result"
    }
   ],
   "source": [
    "# tag::ds_compute_2[]\n",
    "import numpy as np\n",
    "\n",
    "\n",
    "ds = ray.data.range(10000).map_batches(lambda batch: np.square(batch).tolist())\n",
    "ds.take(5)  # -> [0, 1, 4, 9, 16]\n",
    "# end::ds_compute_2[]"
   ]
  },
  {
   "cell_type": "code",
   "execution_count": 31,
   "id": "7bd1d9fc",
   "metadata": {},
   "outputs": [
    {
     "name": "stderr",
     "output_type": "stream",
     "text": [
      "Map Progress (1 actors 1 pending): 100%|██████████| 25/25 [00:01<00:00, 13.67it/s]\n"
     ]
    }
   ],
   "source": [
    "# tag::ds_compute_3[]\n",
    "def load_model():\n",
    "    # Returns a dummy model for this example.\n",
    "    # In reality, this would likely load some model weights onto a GPU.\n",
    "    class DummyModel:\n",
    "        def __call__(self, batch):\n",
    "            return batch\n",
    "\n",
    "    return DummyModel()\n",
    "\n",
    "\n",
    "class MLModel:\n",
    "    def __init__(self):\n",
    "        # load_model() will only run once per actor that's started.\n",
    "        self._model = load_model()\n",
    "\n",
    "    def __call__(self, batch):\n",
    "        return self._model(batch)\n",
    "\n",
    "\n",
    "ds.map_batches(MLModel, compute=\"actors\")\n",
    "# end::ds_compute_3[]\n",
    "\n",
    "\n",
    "cpu_intensive_preprocessing = lambda batch: batch\n",
    "gpu_intensive_inference = lambda batch: batch"
   ]
  },
  {
   "cell_type": "code",
   "execution_count": null,
   "id": "23c74cf5",
   "metadata": {
    "lines_to_next_cell": 2
   },
   "outputs": [],
   "source": []
  },
  {
   "cell_type": "code",
   "execution_count": null,
   "id": "51367151",
   "metadata": {
    "lines_to_next_cell": 2
   },
   "outputs": [],
   "source": []
  },
  {
   "cell_type": "code",
   "execution_count": null,
   "id": "d7e3b1fd",
   "metadata": {},
   "outputs": [],
   "source": [
    "# tag::parallel_sgd_1[]\n",
    "from sklearn import datasets\n",
    "from sklearn.linear_model import SGDClassifier\n",
    "from sklearn.model_selection import train_test_split\n",
    "\n",
    "@ray.remote\n",
    "class TrainingWorker:\n",
    "    def __init__(self, alpha: float):\n",
    "        self._model = SGDClassifier(alpha=alpha)\n",
    "\n",
    "    def train(self, train_shard: ray.data.Dataset):\n",
    "        for i, epoch in enumerate(train_shard.iter_epochs()):\n",
    "            X, Y = zip(*list(epoch.iter_rows()))\n",
    "            self._model.partial_fit(X, Y, classes=[0, 1])\n",
    "\n",
    "        return self._model\n",
    "\n",
    "    def test(self, X_test: np.ndarray, Y_test: np.ndarray):\n",
    "        return self._model.score(X_test, Y_test)\n",
    "# end::parallel_sgd_1[]"
   ]
  },
  {
   "cell_type": "code",
   "execution_count": null,
   "id": "26e75f7f",
   "metadata": {
    "lines_to_next_cell": 2
   },
   "outputs": [],
   "source": [
    "# tag::parallel_sgd_2[]\n",
    "ALPHA_VALS = [0.00008, 0.00009, 0.0001, 0.00011, 0.00012] \n",
    "\n",
    "print(f\"Starting {len(ALPHA_VALS)} training workers.\")\n",
    "workers = [TrainingWorker.remote(alpha) for alpha in ALPHA_VALS]\n",
    "# end::parallel_sgd_2[]"
   ]
  },
  {
   "cell_type": "code",
   "execution_count": null,
   "id": "ea829abb",
   "metadata": {
    "lines_to_next_cell": 2
   },
   "outputs": [],
   "source": [
    "# tag::parallel_sgd_3[]\n",
    "# Generate training & validation data for a classification problem.\n",
    "X_train, X_test, Y_train, Y_test = train_test_split(*datasets.make_classification())\n",
    "\n",
    "# Create a dataset pipeline out of the training data. The data will be randomly\n",
    "# shuffled and split across the workers for 10 iterations.\n",
    "train_ds = ray.data.from_items(list(zip(X_train, Y_train)))\n",
    "shards = train_ds.repeat(10)\\\n",
    "                 .random_shuffle_each_window()\\\n",
    "                 .split(len(workers), locality_hints=workers)\n",
    "\n",
    "# Wait for training to complete on all of the workers.\n",
    "ray.get([worker.train.remote(shard) for worker, shard in zip(workers, shards)])\n",
    "# end::parallel_sgd_3[]"
   ]
  },
  {
   "cell_type": "code",
   "execution_count": null,
   "id": "dbdfaa80",
   "metadata": {
    "lines_to_next_cell": 2
   },
   "outputs": [],
   "source": [
    "# tag::parallel_sgd_5[]\n",
    "# Get validation results from each worker.\n",
    "print(ray.get([worker.test.remote(X_test, Y_test) for worker in workers]))\n",
    "# end::parallel_sgd_5[]"
   ]
  },
  {
   "cell_type": "code",
   "execution_count": null,
   "id": "e1791a04",
   "metadata": {
    "lines_to_next_cell": 2
   },
   "outputs": [],
   "source": [
    "# tag::dask_on_ray_3[]\n",
    "import ray\n",
    "ds = ray.data.range(10000)\n",
    "\n",
    "# Convert the Dataset to a Dask DataFrame.\n",
    "df = ds.to_dask()\n",
    "print(df.std().compute())  # -> 2886.89568\n",
    "\n",
    "# Convert the Dask DataFrame back to a Dataset.\n",
    "ds = ray.data.from_dask(df)\n",
    "print(ds.std())  # -> 2886.89568\n",
    "# end::dask_on_ray_3[]"
   ]
  },
  {
   "cell_type": "code",
   "execution_count": null,
   "id": "20d34eda",
   "metadata": {},
   "outputs": [],
   "source": [
    "# tag::ml_pipeline_preprocess[]\n",
    "import ray\n",
    "from ray.util.dask import enable_dask_on_ray\n",
    "\n",
    "import dask.dataframe as dd\n",
    "\n",
    "LABEL_COLUMN = \"is_big_tip\"\n",
    "FEATURE_COLUMNS = [\"passenger_count\", \"trip_distance\", \"fare_amount\",\n",
    "                   \"trip_duration\", \"hour\", \"day_of_week\"]\n",
    "\n",
    "enable_dask_on_ray()\n",
    "\n",
    "\n",
    "def load_dataset(path: str, *, include_label=True):\n",
    "    # Load the data and drop unused columns.\n",
    "    columns = [\"tpep_pickup_datetime\", \"tpep_dropoff_datetime\", \"tip_amount\",\n",
    "               \"passenger_count\", \"trip_distance\", \"fare_amount\"]\n",
    "    df = dd.read_parquet(path, columns=columns)\n",
    "\n",
    "    # Basic cleaning, drop nulls and outliers.\n",
    "    df = df.dropna()\n",
    "    df = df[(df[\"passenger_count\"] <= 4) &\n",
    "            (df[\"trip_distance\"] < 100) &\n",
    "            (df[\"fare_amount\"] < 1000)]\n",
    "\n",
    "    # Convert datetime strings to datetime objects.\n",
    "    df[\"tpep_pickup_datetime\"] = dd.to_datetime(df[\"tpep_pickup_datetime\"])\n",
    "    df[\"tpep_dropoff_datetime\"] = dd.to_datetime(df[\"tpep_dropoff_datetime\"])\n",
    "\n",
    "    # Add three new features: trip duration, hour the trip started,\n",
    "    # and day of the week.\n",
    "    df[\"trip_duration\"] = (df[\"tpep_dropoff_datetime\"] -\n",
    "                           df[\"tpep_pickup_datetime\"]).dt.seconds\n",
    "    df = df[df[\"trip_duration\"] < 4 * 60 * 60] # 4 hours.\n",
    "    df[\"hour\"] = df[\"tpep_pickup_datetime\"].dt.hour\n",
    "    df[\"day_of_week\"] = df[\"tpep_pickup_datetime\"].dt.weekday\n",
    "\n",
    "    if include_label:\n",
    "        # Calculate label column: if tip was more or less than 20% of the fare.\n",
    "        df[LABEL_COLUMN] = df[\"tip_amount\"] > 0.2 * df[\"fare_amount\"]\n",
    "\n",
    "    # Drop unused columns.\n",
    "    df = df.drop(\n",
    "        columns=[\"tpep_pickup_datetime\", \"tpep_dropoff_datetime\", \"tip_amount\"]\n",
    "    )\n",
    "\n",
    "    return ray.data.from_dask(df).repartition(100)\n",
    "# end::ml_pipeline_preprocess[]"
   ]
  },
  {
   "cell_type": "code",
   "execution_count": null,
   "id": "8b56391b",
   "metadata": {},
   "outputs": [],
   "source": [
    "# tag::ml_pipeline_train_1[]\n",
    "import torch\n",
    "import torch.nn as nn\n",
    "\n",
    "from ray.air import session\n",
    "from ray.air.config import ScalingConfig\n",
    "import ray.train as train\n",
    "from ray.train.torch import TorchCheckpoint, TorchTrainer\n",
    "\n",
    "from fare_predictor import FarePredictor\n",
    "\n",
    "\n",
    "def train_loop_per_worker(config: dict):\n",
    "    batch_size = config.get(\"batch_size\", 32)\n",
    "    lr = config.get(\"lr\", 1e-2)\n",
    "    num_epochs = config.get(\"num_epochs\", 3)\n",
    "\n",
    "    dataset_shard = train.get_dataset_shard(\"train\")\n",
    "    model = train.torch.prepare_model(FarePredictor())\n",
    "\n",
    "    loss_fn = nn.SmoothL1Loss()\n",
    "    optimizer = torch.optim.Adam(model.parameters(), lr=lr)\n",
    "    model = train.torch.prepare_model(model)\n",
    "\n",
    "    for epoch in range(num_epochs):\n",
    "        loss = 0\n",
    "        num_batches = 0\n",
    "        for batch in dataset_shard.iter_torch_batches(\n",
    "            batch_size=batch_size, dtypes=torch.float\n",
    "        ):\n",
    "            labels = torch.unsqueeze(batch[LABEL_COLUMN], dim=1)\n",
    "            inputs = torch.cat(\n",
    "                [torch.unsqueeze(batch[f], dim=1) for f in FEATURE_COLUMNS], dim=1\n",
    "            )\n",
    "            output = model(inputs)\n",
    "            batch_loss = loss_fn(output, labels)\n",
    "            optimizer.zero_grad()\n",
    "            batch_loss.backward()\n",
    "            optimizer.step()\n",
    "\n",
    "            num_batches += 1\n",
    "            loss += batch_loss.item()\n",
    "\n",
    "        # loss /= num_batches\n",
    "        session.report(\n",
    "            {\"epoch\": epoch, \"loss\": loss},\n",
    "            checkpoint=TorchCheckpoint.from_model(model)\n",
    "        )\n",
    "# end::ml_pipeline_train_1[]"
   ]
  },
  {
   "cell_type": "code",
   "execution_count": null,
   "id": "aadaba08",
   "metadata": {
    "lines_to_next_cell": 2
   },
   "outputs": [],
   "source": [
    "# tag::ml_pipeline_train_2[]\n",
    "trainer = TorchTrainer(\n",
    "    train_loop_per_worker=train_loop_per_worker,\n",
    "    train_loop_config={\"lr\": 1e-2, \"num_epochs\": 3, \"batch_size\": 64},\n",
    "    scaling_config=ScalingConfig(num_workers=4),\n",
    "    datasets={\"train\": load_dataset(\"nyc_tlc_data/yellow_tripdata_2020-01.parquet\")},\n",
    ")\n",
    "\n",
    "result = trainer.fit()\n",
    "trained_model = result.checkpoint\n",
    "# end::ml_pipeline_train_2[]"
   ]
  },
  {
   "cell_type": "code",
   "execution_count": null,
   "id": "1e8e42bb",
   "metadata": {},
   "outputs": [],
   "source": [
    "# tag::ml_pipeline_inference[]\n",
    "from ray.train.torch import TorchPredictor\n",
    "from ray.train.batch_predictor import BatchPredictor\n",
    "\n",
    "batch_predictor = BatchPredictor(trained_model, TorchPredictor)\n",
    "ds = load_dataset(\n",
    "    \"nyc_tlc_data/yellow_tripdata_2021-01.parquet\", include_label=False)\n",
    "\n",
    "batch_predictor.predict_pipelined(ds, blocks_per_window=10)\n",
    "# end::ml_pipeline_inference[]"
   ]
  }
 ],
 "metadata": {
  "jupytext": {
   "cell_metadata_filter": "-all",
   "main_language": "python",
   "notebook_metadata_filter": "-all"
  },
  "kernelspec": {
   "display_name": "Python 3.9.13 ('bigdata-2022-2')",
   "language": "python",
   "name": "python3"
  },
  "language_info": {
   "codemirror_mode": {
    "name": "ipython",
    "version": 3
   },
   "file_extension": ".py",
   "mimetype": "text/x-python",
   "name": "python",
   "nbconvert_exporter": "python",
   "pygments_lexer": "ipython3",
   "version": "3.9.13"
  },
  "vscode": {
   "interpreter": {
    "hash": "ee0e340b373adaa70299d42cd1cb59b0a3467f40584d69eef1fc62bec46809f7"
   }
  }
 },
 "nbformat": 4,
 "nbformat_minor": 5
}
