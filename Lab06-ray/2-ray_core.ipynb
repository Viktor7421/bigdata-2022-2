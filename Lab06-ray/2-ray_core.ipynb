{
 "cells": [
  {
   "cell_type": "markdown",
   "id": "4fe70bf4",
   "metadata": {},
   "source": [
    "# Getting Started with Ray Core"
   ]
  },
  {
   "cell_type": "markdown",
   "id": "1b1b8306",
   "metadata": {
    "lines_to_next_cell": 2
   },
   "source": [
    "For a book on distributed Python, it's not without a certain irony that Python on its own is\n",
    "largely ineffective for distributed computing.\n",
    "Its interpreter is effectively single threaded which makes it difficult to e.g. leverage multiple CPUs on\n",
    "the same machine, let alone a whole cluster of machines, using plain Python.\n",
    "That means you need extra tooling, and luckily the Python ecosystem has some options for you.\n",
    "For instance, libraries like `multiprocessing` can help you distribute work on a single machine, but not beyond."
   ]
  },
  {
   "cell_type": "code",
   "execution_count": 1,
   "id": "95c830cb",
   "metadata": {},
   "outputs": [
    {
     "name": "stderr",
     "output_type": "stream",
     "text": [
      "2022-10-06 17:10:40,049\tINFO worker.py:1509 -- Started a local Ray instance. View the dashboard at \u001b[1m\u001b[32m127.0.0.1:8265 \u001b[39m\u001b[22m\n"
     ]
    },
    {
     "data": {
      "text/html": [
       "<div>\n",
       "    <div style=\"margin-left: 50px;display: flex;flex-direction: row;align-items: center\">\n",
       "        <h3 style=\"color: var(--jp-ui-font-color0)\">Ray</h3>\n",
       "        <svg version=\"1.1\" id=\"ray\" width=\"3em\" viewBox=\"0 0 144.5 144.6\" style=\"margin-left: 3em;margin-right: 3em\">\n",
       "            <g id=\"layer-1\">\n",
       "                <path fill=\"#00a2e9\" class=\"st0\" d=\"M97.3,77.2c-3.8-1.1-6.2,0.9-8.3,5.1c-3.5,6.8-9.9,9.9-17.4,9.6S58,88.1,54.8,81.2c-1.4-3-3-4-6.3-4.1\n",
       "                    c-5.6-0.1-9.9,0.1-13.1,6.4c-3.8,7.6-13.6,10.2-21.8,7.6C5.2,88.4-0.4,80.5,0,71.7c0.1-8.4,5.7-15.8,13.8-18.2\n",
       "                    c8.4-2.6,17.5,0.7,22.3,8c1.3,1.9,1.3,5.2,3.6,5.6c3.9,0.6,8,0.2,12,0.2c1.8,0,1.9-1.6,2.4-2.8c3.5-7.8,9.7-11.8,18-11.9\n",
       "                    c8.2-0.1,14.4,3.9,17.8,11.4c1.3,2.8,2.9,3.6,5.7,3.3c1-0.1,2,0.1,3,0c2.8-0.5,6.4,1.7,8.1-2.7s-2.3-5.5-4.1-7.5\n",
       "                    c-5.1-5.7-10.9-10.8-16.1-16.3C84,38,81.9,37.1,78,38.3C66.7,42,56.2,35.7,53,24.1C50.3,14,57.3,2.8,67.7,0.5\n",
       "                    C78.4-2,89,4.7,91.5,15.3c0.1,0.3,0.1,0.5,0.2,0.8c0.7,3.4,0.7,6.9-0.8,9.8c-1.7,3.2-0.8,5,1.5,7.2c6.7,6.5,13.3,13,19.8,19.7\n",
       "                    c1.8,1.8,3,2.1,5.5,1.2c9.1-3.4,17.9-0.6,23.4,7c4.8,6.9,4.6,16.1-0.4,22.9c-5.4,7.2-14.2,9.9-23.1,6.5c-2.3-0.9-3.5-0.6-5.1,1.1\n",
       "                    c-6.7,6.9-13.6,13.7-20.5,20.4c-1.8,1.8-2.5,3.2-1.4,5.9c3.5,8.7,0.3,18.6-7.7,23.6c-7.9,5-18.2,3.8-24.8-2.9\n",
       "                    c-6.4-6.4-7.4-16.2-2.5-24.3c4.9-7.8,14.5-11,23.1-7.8c3,1.1,4.7,0.5,6.9-1.7C91.7,98.4,98,92.3,104.2,86c1.6-1.6,4.1-2.7,2.6-6.2\n",
       "                    c-1.4-3.3-3.8-2.5-6.2-2.6C99.8,77.2,98.9,77.2,97.3,77.2z M72.1,29.7c5.5,0.1,9.9-4.3,10-9.8c0-0.1,0-0.2,0-0.3\n",
       "                    C81.8,14,77,9.8,71.5,10.2c-5,0.3-9,4.2-9.3,9.2c-0.2,5.5,4,10.1,9.5,10.3C71.8,29.7,72,29.7,72.1,29.7z M72.3,62.3\n",
       "                    c-5.4-0.1-9.9,4.2-10.1,9.7c0,0.2,0,0.3,0,0.5c0.2,5.4,4.5,9.7,9.9,10c5.1,0.1,9.9-4.7,10.1-9.8c0.2-5.5-4-10-9.5-10.3\n",
       "                    C72.6,62.3,72.4,62.3,72.3,62.3z M115,72.5c0.1,5.4,4.5,9.7,9.8,9.9c5.6-0.2,10-4.8,10-10.4c-0.2-5.4-4.6-9.7-10-9.7\n",
       "                    c-5.3-0.1-9.8,4.2-9.9,9.5C115,72.1,115,72.3,115,72.5z M19.5,62.3c-5.4,0.1-9.8,4.4-10,9.8c-0.1,5.1,5.2,10.4,10.2,10.3\n",
       "                    c5.6-0.2,10-4.9,9.8-10.5c-0.1-5.4-4.5-9.7-9.9-9.6C19.6,62.3,19.5,62.3,19.5,62.3z M71.8,134.6c5.9,0.2,10.3-3.9,10.4-9.6\n",
       "                    c0.5-5.5-3.6-10.4-9.1-10.8c-5.5-0.5-10.4,3.6-10.8,9.1c0,0.5,0,0.9,0,1.4c-0.2,5.3,4,9.8,9.3,10\n",
       "                    C71.6,134.6,71.7,134.6,71.8,134.6z\"/>\n",
       "            </g>\n",
       "        </svg>\n",
       "        <table>\n",
       "            <tr>\n",
       "                <td style=\"text-align: left\"><b>Python version:</b></td>\n",
       "                <td style=\"text-align: left\"><b>3.9.13</b></td>\n",
       "            </tr>\n",
       "            <tr>\n",
       "                <td style=\"text-align: left\"><b>Ray version:</b></td>\n",
       "                <td style=\"text-align: left\"><b> 2.0.0</b></td>\n",
       "            </tr>\n",
       "            <tr>\n",
       "    <td style=\"text-align: left\"><b>Dashboard:</b></td>\n",
       "    <td style=\"text-align: left\"><b><a href=\"http://127.0.0.1:8265\" target=\"_blank\">http://127.0.0.1:8265</a></b></td>\n",
       "</tr>\n",
       "\n",
       "        </table>\n",
       "    </div>\n",
       "</div>\n"
      ],
      "text/plain": [
       "RayContext(dashboard_url='127.0.0.1:8265', python_version='3.9.13', ray_version='2.0.0', ray_commit='cba26cc83f6b5b8a2ff166594a65cb74c0ec8740', address_info={'node_ip_address': '192.168.43.126', 'raylet_ip_address': '192.168.43.126', 'redis_address': None, 'object_store_address': '/tmp/ray/session_2022-10-06_17-10-35_478663_25209/sockets/plasma_store', 'raylet_socket_name': '/tmp/ray/session_2022-10-06_17-10-35_478663_25209/sockets/raylet', 'webui_url': '127.0.0.1:8265', 'session_dir': '/tmp/ray/session_2022-10-06_17-10-35_478663_25209', 'metrics_export_port': 56515, 'gcs_address': '192.168.43.126:54057', 'address': '192.168.43.126:54057', 'dashboard_agent_listen_port': 52365, 'node_id': '76bc867ea6b5b748a3b4941ff4c7585f9409967345a911d458483aa5'})"
      ]
     },
     "execution_count": 1,
     "metadata": {},
     "output_type": "execute_result"
    }
   ],
   "source": [
    "import ray\n",
    "ray.init()"
   ]
  },
  {
   "cell_type": "code",
   "execution_count": 2,
   "id": "de18d562",
   "metadata": {},
   "outputs": [],
   "source": [
    "# tag::retrieve[]\n",
    "import time\n",
    "\n",
    "database = [  # <1>\n",
    "    \"Learning\", \"Ray\",\n",
    "    \"Flexible\", \"Distributed\", \"Python\", \"for\", \"Data\", \"Science\"\n",
    "]\n",
    "\n",
    "def retrieve(item):\n",
    "    time.sleep(item / 10.)  # <2>\n",
    "    return item, database[item]\n",
    "# end::retrieve[]"
   ]
  },
  {
   "cell_type": "code",
   "execution_count": 3,
   "id": "19ff860d",
   "metadata": {
    "lines_to_next_cell": 2
   },
   "outputs": [
    {
     "name": "stdout",
     "output_type": "stream",
     "text": [
      "Runtime: 2.8 seconds, data:\n",
      "(0, 'Learning')\n",
      "(1, 'Ray')\n",
      "(2, 'Flexible')\n",
      "(3, 'Distributed')\n",
      "(4, 'Python')\n",
      "(5, 'for')\n",
      "(6, 'Data')\n",
      "(7, 'Science')\n"
     ]
    }
   ],
   "source": [
    "# tag::duration[]\n",
    "def print_runtime(input_data, start_time, decimals=1):\n",
    "    print(f'Runtime: {time.time() - start_time:.{decimals}f} seconds, data:')\n",
    "    print(*input_data, sep=\"\\n\")\n",
    "\n",
    "start = time.time()\n",
    "data = [retrieve(item) for item in range(8)]  # <1>\n",
    "print_runtime(data, start)  # <2>\n",
    "# end::duration[]"
   ]
  },
  {
   "cell_type": "code",
   "execution_count": 1,
   "id": "952ed359",
   "metadata": {},
   "outputs": [
    {
     "name": "stdout",
     "output_type": "stream",
     "text": [
      "before f\n",
      "2\n",
      "after f\n"
     ]
    }
   ],
   "source": [
    "def decorator(func):\n",
    "    def ins_func():\n",
    "        print(\"before f\")        \n",
    "        func()\n",
    "        print(\"after f\")\n",
    "    return ins_func\n",
    "\n",
    "@decorator\n",
    "def sum():\n",
    "    print(1+1)\n",
    "\n",
    "sum()"
   ]
  },
  {
   "cell_type": "code",
   "execution_count": 4,
   "id": "3bf5aa39",
   "metadata": {},
   "outputs": [],
   "source": [
    "# tag::remote[]\n",
    "@ray.remote  # <1>\n",
    "def retrieve_task(item):\n",
    "    return retrieve(item)  # <2>\n",
    "# end::remote[]"
   ]
  },
  {
   "cell_type": "code",
   "execution_count": 11,
   "id": "55e6e090",
   "metadata": {},
   "outputs": [
    {
     "data": {
      "text/plain": [
       "ObjectRef(8849b62d89cb30f9ffffffffffffffffffffffff0100000001000000)"
      ]
     },
     "execution_count": 11,
     "metadata": {},
     "output_type": "execute_result"
    }
   ],
   "source": [
    "f = retrieve_task.remote(0)\n",
    "f"
   ]
  },
  {
   "cell_type": "code",
   "execution_count": 6,
   "id": "85f19248",
   "metadata": {},
   "outputs": [
    {
     "name": "stdout",
     "output_type": "stream",
     "text": [
      "Runtime: 0.81 seconds, data:\n",
      "(0, 'Learning')\n",
      "(1, 'Ray')\n",
      "(2, 'Flexible')\n",
      "(3, 'Distributed')\n",
      "(4, 'Python')\n",
      "(5, 'for')\n",
      "(6, 'Data')\n",
      "(7, 'Science')\n"
     ]
    }
   ],
   "source": [
    "# tag::duration_remote[]\n",
    "start = time.time()\n",
    "data_references = [  # <1>\n",
    "    retrieve_task.remote(item) for item in range(8)\n",
    "]\n",
    "data = ray.get(data_references)  # <2>\n",
    "print_runtime(data, start, 2)\n",
    "# end::duration_remote[]"
   ]
  },
  {
   "cell_type": "code",
   "execution_count": 7,
   "id": "1d0548aa",
   "metadata": {},
   "outputs": [
    {
     "data": {
      "text/plain": [
       "[ObjectRef(c8ef45ccd0112571ffffffffffffffffffffffff0100000001000000),\n",
       " ObjectRef(16310a0f0a45af5cffffffffffffffffffffffff0100000001000000),\n",
       " ObjectRef(c2668a65bda616c1ffffffffffffffffffffffff0100000001000000),\n",
       " ObjectRef(32d950ec0ccf9d2affffffffffffffffffffffff0100000001000000),\n",
       " ObjectRef(e0dc174c83599034ffffffffffffffffffffffff0100000001000000),\n",
       " ObjectRef(f4402ec78d3a2607ffffffffffffffffffffffff0100000001000000),\n",
       " ObjectRef(f91b78d7db9a6593ffffffffffffffffffffffff0100000001000000),\n",
       " ObjectRef(82891771158d68c1ffffffffffffffffffffffff0100000001000000)]"
      ]
     },
     "execution_count": 7,
     "metadata": {},
     "output_type": "execute_result"
    }
   ],
   "source": [
    "data_references"
   ]
  },
  {
   "cell_type": "code",
   "execution_count": 8,
   "id": "b59e33fa",
   "metadata": {},
   "outputs": [
    {
     "data": {
      "text/plain": [
       "['Learning',\n",
       " 'Ray',\n",
       " 'Flexible',\n",
       " 'Distributed',\n",
       " 'Python',\n",
       " 'for',\n",
       " 'Data',\n",
       " 'Science']"
      ]
     },
     "execution_count": 8,
     "metadata": {},
     "output_type": "execute_result"
    }
   ],
   "source": [
    "database"
   ]
  },
  {
   "cell_type": "code",
   "execution_count": 9,
   "id": "efdf6ba7",
   "metadata": {},
   "outputs": [],
   "source": [
    "# tag::object_store[]\n",
    "database_object_ref = ray.put(database)  # <1>"
   ]
  },
  {
   "cell_type": "code",
   "execution_count": 10,
   "id": "89593264",
   "metadata": {},
   "outputs": [
    {
     "data": {
      "text/plain": [
       "ObjectRef(00ffffffffffffffffffffffffffffffffffffff0100000001000000)"
      ]
     },
     "execution_count": 10,
     "metadata": {},
     "output_type": "execute_result"
    }
   ],
   "source": [
    "database_object_ref"
   ]
  },
  {
   "cell_type": "code",
   "execution_count": 12,
   "id": "74b84b00",
   "metadata": {},
   "outputs": [],
   "source": [
    "\n",
    "\n",
    "@ray.remote\n",
    "def retrieve_task(item):\n",
    "    obj_store_data = ray.get(database_object_ref)  # <2>\n",
    "    time.sleep(item / 10.)\n",
    "    return item, obj_store_data[item]\n",
    "# end::object_store[]"
   ]
  },
  {
   "cell_type": "code",
   "execution_count": 15,
   "id": "b491786e",
   "metadata": {},
   "outputs": [
    {
     "data": {
      "text/plain": [
       "(0, 'Learning')"
      ]
     },
     "execution_count": 15,
     "metadata": {},
     "output_type": "execute_result"
    }
   ],
   "source": [
    "f = retrieve_task.remote(0)\n",
    "ray.get(f)"
   ]
  },
  {
   "cell_type": "code",
   "execution_count": 7,
   "id": "1df47068",
   "metadata": {},
   "outputs": [
    {
     "data": {
      "text/plain": [
       "ObjectRef(00ffffffffffffffffffffffffffffffffffffff0100000001000000)"
      ]
     },
     "execution_count": 7,
     "metadata": {},
     "output_type": "execute_result"
    }
   ],
   "source": [
    "database_object_ref"
   ]
  },
  {
   "cell_type": "code",
   "execution_count": 8,
   "id": "e7a919e3",
   "metadata": {},
   "outputs": [
    {
     "name": "stdout",
     "output_type": "stream",
     "text": [
      "Runtime: 0.137 seconds, data:\n",
      "(0, 'Learning')\n",
      "(1, 'Ray')\n",
      "Runtime: 0.337 seconds, data:\n",
      "(2, 'Flexible')\n",
      "(3, 'Distributed')\n",
      "Runtime: 0.538 seconds, data:\n",
      "(4, 'Python')\n",
      "(5, 'for')\n",
      "Runtime: 0.740 seconds, data:\n",
      "(6, 'Data')\n",
      "(7, 'Science')\n",
      "Runtime: 0.7 seconds, data:\n",
      "(0, 'Learning')\n",
      "(1, 'Ray')\n",
      "(2, 'Flexible')\n",
      "(3, 'Distributed')\n",
      "(4, 'Python')\n",
      "(5, 'for')\n",
      "(6, 'Data')\n",
      "(7, 'Science')\n"
     ]
    }
   ],
   "source": [
    "# tag::duration_object_store[]\n",
    "start = time.time()\n",
    "data_references = [retrieve_task.remote(item) for item in range(8)]\n",
    "all_data = []\n",
    "\n",
    "while len(data_references) > 0:  # <1>\n",
    "    finished, data_references = ray.wait(  # <2>\n",
    "        data_references, num_returns=2, timeout=7.0\n",
    "    )\n",
    "    data = ray.get(finished)\n",
    "    print_runtime(data, start, 3)  # <3>\n",
    "    all_data.extend(data)  # <4>\n",
    "\n",
    "# end::duration_object_store[]\n",
    "print_runtime(all_data, start)"
   ]
  },
  {
   "cell_type": "code",
   "execution_count": 9,
   "id": "111c7fe4",
   "metadata": {},
   "outputs": [
    {
     "name": "stdout",
     "output_type": "stream",
     "text": [
      "((0, 'Learning'), (1, 'Ray'))\n",
      "((2, 'Flexible'), (3, 'Distributed'))\n",
      "((4, 'Python'), (5, 'for'))\n",
      "((6, 'Data'), (7, 'Science'))\n"
     ]
    }
   ],
   "source": [
    "# tag::task_dependency[]\n",
    "@ray.remote\n",
    "def follow_up_task(retrieve_result):  # <1>\n",
    "    original_item, _ = retrieve_result\n",
    "    follow_up_result = retrieve(original_item + 1)  # <2>\n",
    "    return retrieve_result, follow_up_result  # <3>\n",
    "\n",
    "\n",
    "retrieve_refs = [retrieve_task.remote(item) for item in [0, 2, 4, 6]]\n",
    "follow_up_refs = [follow_up_task.remote(ref) for ref in retrieve_refs]  # <4>\n",
    "\n",
    "result = [print(data) for data in ray.get(follow_up_refs)]\n",
    "# end::task_dependency[]"
   ]
  },
  {
   "cell_type": "code",
   "execution_count": 16,
   "id": "54ac36a7",
   "metadata": {},
   "outputs": [],
   "source": [
    "# tag::actors[]\n",
    "@ray.remote  # <1>\n",
    "class DataTracker:\n",
    "    def __init__(self):\n",
    "        self._counts = 0\n",
    "\n",
    "    def increment(self):\n",
    "        self._counts += 1\n",
    "\n",
    "    def counts(self):\n",
    "        return self._counts\n",
    "# end::actors[]"
   ]
  },
  {
   "cell_type": "code",
   "execution_count": 17,
   "id": "569e3dae",
   "metadata": {
    "lines_to_next_cell": 2
   },
   "outputs": [
    {
     "name": "stdout",
     "output_type": "stream",
     "text": [
      "8\n"
     ]
    }
   ],
   "source": [
    "# tag::actors_remote[]\n",
    "@ray.remote\n",
    "def retrieve_tracker_task(item, tracker):  # <1>\n",
    "    obj_store_data = ray.get(database_object_ref)\n",
    "    time.sleep(item / 10.)\n",
    "    tracker.increment.remote()  # <2>\n",
    "    return item, obj_store_data[item]\n",
    "\n",
    "\n",
    "tracker = DataTracker.remote()  # <3>\n",
    "\n",
    "data_references = [  # <4>\n",
    "    retrieve_tracker_task.remote(item, tracker) for item in range(8)\n",
    "]\n",
    "data = ray.get(data_references)\n",
    "print(ray.get(tracker.counts.remote()))  # <5>\n",
    "# end::actors_remote[]"
   ]
  },
  {
   "cell_type": "code",
   "execution_count": 18,
   "id": "59d0ce5b",
   "metadata": {},
   "outputs": [
    {
     "data": {
      "text/plain": [
       "Actor(DataTracker, 47efc962b23479b86e855a9701000000)"
      ]
     },
     "execution_count": 18,
     "metadata": {},
     "output_type": "execute_result"
    }
   ],
   "source": [
    "tracker"
   ]
  },
  {
   "cell_type": "code",
   "execution_count": 23,
   "id": "69d20a3d",
   "metadata": {},
   "outputs": [
    {
     "data": {
      "text/plain": [
       "ObjectRef(cae5e964086715a4ffffffffffffffffffffffff0100000001000000)"
      ]
     },
     "execution_count": 23,
     "metadata": {},
     "output_type": "execute_result"
    }
   ],
   "source": [
    "# tag::ownership[]\n",
    "@ray.remote\n",
    "def task_owned():\n",
    "    return\n",
    "\n",
    "\n",
    "@ray.remote\n",
    "def task(dependency):\n",
    "    res_owned = task_owned.remote()\n",
    "    return\n",
    "\n",
    "\n",
    "val = ray.put(\"value\")\n",
    "res = task.remote(dependency=val)\n",
    "res\n",
    "# end::ownership[]"
   ]
  },
  {
   "cell_type": "code",
   "execution_count": 24,
   "id": "bc48c7da",
   "metadata": {},
   "outputs": [
    {
     "data": {
      "text/plain": [
       "ObjectRef(00ffffffffffffffffffffffffffffffffffffff0100000005000000)"
      ]
     },
     "execution_count": 24,
     "metadata": {},
     "output_type": "execute_result"
    }
   ],
   "source": [
    "val"
   ]
  },
  {
   "cell_type": "markdown",
   "id": "aa098a3e",
   "metadata": {
    "lines_to_next_cell": 2
   },
   "source": [
    "# ![Task dependency](https://raw.githubusercontent.com/maxpumperla/learning_ray/main/notebooks/images/chapter_02/task_dependency.png)"
   ]
  },
  {
   "cell_type": "markdown",
   "id": "275cbfd5",
   "metadata": {
    "lines_to_next_cell": 2
   },
   "source": [
    "# ![Workder Node](https://raw.githubusercontent.com/maxpumperla/learning_ray/main/notebooks/images/chapter_02/worker_node.png)"
   ]
  },
  {
   "cell_type": "markdown",
   "id": "d4a3ae0d",
   "metadata": {},
   "source": [
    "# ![Ray architecture](https://raw.githubusercontent.com/maxpumperla/learning_ray/main/notebooks/images/chapter_02/architecture.png)"
   ]
  },
  {
   "cell_type": "code",
   "execution_count": 17,
   "id": "58db2d20",
   "metadata": {},
   "outputs": [
    {
     "data": {
      "text/plain": [
       "<generator object sum at 0x7fea4c72ecf0>"
      ]
     },
     "execution_count": 17,
     "metadata": {},
     "output_type": "execute_result"
    }
   ],
   "source": [
    "\n",
    "def sum(a,b):\n",
    "    yield a+b\n",
    "\n",
    "a = sum(2,3)\n",
    "a"
   ]
  },
  {
   "cell_type": "code",
   "execution_count": 21,
   "id": "ecf0d15c",
   "metadata": {},
   "outputs": [
    {
     "data": {
      "text/plain": [
       "<generator object sum at 0x7fea4c72e200>"
      ]
     },
     "execution_count": 21,
     "metadata": {},
     "output_type": "execute_result"
    }
   ],
   "source": [
    "b = sum(2,4)\n",
    "b"
   ]
  },
  {
   "cell_type": "code",
   "execution_count": 29,
   "id": "e84c0209",
   "metadata": {},
   "outputs": [
    {
     "data": {
      "text/plain": [
       "1"
      ]
     },
     "execution_count": 29,
     "metadata": {},
     "output_type": "execute_result"
    }
   ],
   "source": [
    "def gen1(a):\n",
    "    for i in a:\n",
    "        yield i**3\n",
    "\n",
    "num = [1,2,3]\n",
    "cubes = gen1(num)\n",
    "\n",
    "# cubes\n",
    "\n",
    "next(cubes)"
   ]
  },
  {
   "cell_type": "code",
   "execution_count": 30,
   "id": "411cfbe0",
   "metadata": {},
   "outputs": [
    {
     "data": {
      "text/plain": [
       "8"
      ]
     },
     "execution_count": 30,
     "metadata": {},
     "output_type": "execute_result"
    }
   ],
   "source": [
    "next(cubes)"
   ]
  },
  {
   "cell_type": "code",
   "execution_count": 31,
   "id": "a4e251af",
   "metadata": {},
   "outputs": [
    {
     "data": {
      "text/plain": [
       "27"
      ]
     },
     "execution_count": 31,
     "metadata": {},
     "output_type": "execute_result"
    }
   ],
   "source": [
    "next(cubes)"
   ]
  },
  {
   "cell_type": "code",
   "execution_count": 32,
   "id": "9f63a5ca",
   "metadata": {},
   "outputs": [
    {
     "ename": "StopIteration",
     "evalue": "",
     "output_type": "error",
     "traceback": [
      "\u001b[0;31m---------------------------------------------------------------------------\u001b[0m",
      "\u001b[0;31mStopIteration\u001b[0m                             Traceback (most recent call last)",
      "Cell \u001b[0;32mIn [32], line 1\u001b[0m\n\u001b[0;32m----> 1\u001b[0m \u001b[38;5;28mnext\u001b[39m(cubes)\n",
      "\u001b[0;31mStopIteration\u001b[0m: "
     ]
    }
   ],
   "source": [
    "next(cubes)"
   ]
  },
  {
   "cell_type": "code",
   "execution_count": 29,
   "id": "75f3b60b",
   "metadata": {},
   "outputs": [
    {
     "name": "stdout",
     "output_type": "stream",
     "text": [
      "[(b'is', 10), (b'better', 8), (b'than', 8), (b'the', 6), (b'to', 5), (b'of', 3), (b'although', 3), (b'be', 3), (b'special', 2), (b'should', 2), (b'never', 2), (b'unless', 2), (b'one', 2), (b'way', 2), (b'do', 2), (b'may', 2), (b'if', 2), (b'implementation', 2), (b'explain,', 2), (b'a', 2), (b'idea.', 2), (b'zen', 1), (b'python,', 1), (b'by', 1), (b'tim', 1), (b'peters', 1), (b'beautiful', 1), (b'ugly.', 1), (b'explicit', 1), (b'implicit.', 1), (b'simple', 1), (b'complex.', 1), (b'complex', 1), (b'complicated.', 1), (b'flat', 1), (b'nested.', 1), (b'sparse', 1), (b'dense.', 1), (b'readability', 1), (b'counts.', 1), (b'cases', 1), (b\"aren't\", 1), (b'enough', 1), (b'break', 1), (b'rules.', 1), (b'practicality', 1), (b'beats', 1), (b'purity.', 1), (b'errors', 1), (b'pass', 1), (b'silently.', 1), (b'explicitly', 1), (b'silenced.', 1), (b'in', 1), (b'face', 1), (b'ambiguity,', 1), (b'refuse', 1), (b'temptation', 1), (b'guess.', 1), (b'there', 1), (b'one--', 1), (b'and', 1), (b'preferably', 1), (b'only', 1), (b'--obvious', 1), (b'it.', 1), (b'that', 1), (b'not', 1), (b'obvious', 1), (b'at', 1), (b'first', 1), (b\"you're\", 1), (b'dutch.', 1), (b'now', 1), (b'never.', 1), (b'often', 1), (b'*right*', 1), (b'now.', 1), (b'hard', 1), (b\"it's\", 1), (b'bad', 1), (b'easy', 1), (b'it', 1), (b'good', 1), (b'namespaces', 1), (b'are', 1), (b'honking', 1), (b'great', 1), (b'idea', 1), (b'--', 1), (b\"let's\", 1), (b'more', 1), (b'those!', 1)]\n"
     ]
    }
   ],
   "source": [
    "\n",
    "\n",
    "# tag::map_fct[]\n",
    "def map_function(document):\n",
    "    for word in document.lower().split():\n",
    "        yield word, 1\n",
    "# end::map_fct[]\n",
    "\n",
    "\n",
    "# tag::map[]\n",
    "import ray\n",
    "\n",
    "\n",
    "@ray.remote\n",
    "def apply_map(corpus):\n",
    "    map_results = []\n",
    "    for document in corpus:\n",
    "        for result in map_function(document):\n",
    "            map_results.append(result)\n",
    "    return map_results\n",
    "# end::map[]\n",
    "\n",
    "\n",
    "# tag::shuffle[]\n",
    "@ray.remote\n",
    "def apply_shuffle(map_results):\n",
    "    shuffle_results = dict()\n",
    "    for key, value in map_results:\n",
    "        if key not in shuffle_results:\n",
    "            shuffle_results[key] = []\n",
    "        shuffle_results[key].append(value)\n",
    "    return shuffle_results\n",
    "# end::shuffle[]\n",
    "\n",
    "\n",
    "# tag::reduce[]\n",
    "def reduce_function(key, values):\n",
    "    total = 0\n",
    "    for count in values:\n",
    "        total += count\n",
    "    return key, total\n",
    "\n",
    "\n",
    "@ray.remote\n",
    "def apply_reduce(shuffle_results):\n",
    "    reduce_results = dict()\n",
    "    for key, values in shuffle_results.items():\n",
    "        _, count = reduce_function(key, values)\n",
    "        reduce_results[key] = count\n",
    "    return reduce_results\n",
    "# end::reduce[]\n",
    "\n",
    "\n",
    "# tag::apply_mr[]\n",
    "import subprocess\n",
    "zen_of_python = subprocess.check_output([\"python\", \"-c\", \"import this\"])\n",
    "text_data = zen_of_python.split()\n",
    "\n",
    "\n",
    "map_results = apply_map.remote(text_data)\n",
    "group_results = apply_shuffle.remote(map_results)\n",
    "reduce_results = apply_reduce.remote(group_results)\n",
    "counts = ray.get(reduce_results)\n",
    "\n",
    "sorted_counts = sorted(counts.items(), key=lambda kv: kv[1], reverse=True)\n",
    "print(sorted_counts)\n",
    "# end::apply_mr[]"
   ]
  }
 ],
 "metadata": {
  "jupytext": {
   "cell_metadata_filter": "-all",
   "main_language": "python",
   "notebook_metadata_filter": "-all"
  },
  "kernelspec": {
   "display_name": "Python 3.9.13 ('bigdata-2022-2')",
   "language": "python",
   "name": "python3"
  },
  "language_info": {
   "codemirror_mode": {
    "name": "ipython",
    "version": 3
   },
   "file_extension": ".py",
   "mimetype": "text/x-python",
   "name": "python",
   "nbconvert_exporter": "python",
   "pygments_lexer": "ipython3",
   "version": "3.9.13"
  },
  "vscode": {
   "interpreter": {
    "hash": "ee0e340b373adaa70299d42cd1cb59b0a3467f40584d69eef1fc62bec46809f7"
   }
  }
 },
 "nbformat": 4,
 "nbformat_minor": 5
}
