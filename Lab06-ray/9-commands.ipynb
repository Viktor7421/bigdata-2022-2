{
 "cells": [
  {
   "cell_type": "markdown",
   "id": "ff5d15cd",
   "metadata": {},
   "source": [
    "tag::cluster_connect[]"
   ]
  },
  {
   "cell_type": "code",
   "execution_count": 2,
   "id": "5d394ab5",
   "metadata": {},
   "outputs": [
    {
     "name": "stderr",
     "output_type": "stream",
     "text": [
      "2022-10-05 02:38:24,946\tINFO worker.py:1518 -- Started a local Ray instance.\n"
     ]
    },
    {
     "name": "stdout",
     "output_type": "stream",
     "text": [
      "{'memory': 676282368.0, 'CPU': 12.0, 'object_store_memory': 338141184.0, 'node:192.168.43.126': 1.0, 'accelerator_type:GTX': 1.0, 'GPU': 1.0}\n"
     ]
    }
   ],
   "source": [
    "import ray\n",
    "# ray.init(address=\"auto\")\n",
    "ray.init()\n",
    "print(ray.cluster_resources())"
   ]
  },
  {
   "cell_type": "code",
   "execution_count": 3,
   "id": "01f21acf",
   "metadata": {},
   "outputs": [],
   "source": [
    "@ray.remote\n",
    "def test():\n",
    "    return 12"
   ]
  },
  {
   "cell_type": "code",
   "execution_count": 4,
   "id": "28e1426b",
   "metadata": {
    "lines_to_next_cell": 2
   },
   "outputs": [
    {
     "data": {
      "text/plain": [
       "[12, 12, 12, 12, 12, 12, 12, 12, 12, 12, 12, 12]"
      ]
     },
     "execution_count": 4,
     "metadata": {},
     "output_type": "execute_result"
    }
   ],
   "source": [
    "ray.get([test.remote() for i in range(12)])\n",
    "# end::cluster_connect[]"
   ]
  },
  {
   "cell_type": "code",
   "execution_count": 5,
   "id": "921139db",
   "metadata": {},
   "outputs": [
    {
     "name": "stderr",
     "output_type": "stream",
     "text": [
      "/home/serendipita/anaconda3/envs/bigdata-2022-2/lib/python3.9/site-packages/ray/util/client/worker.py:253: UserWarning: Ray Client connection timed out. Ensure that the Ray Client port on the head node is reachable from your local machine. See https://docs.ray.io/en/latest/cluster/ray-client.html#step-2-check-ports for more information.\n",
      "  warnings.warn(\n"
     ]
    },
    {
     "ename": "ConnectionError",
     "evalue": "ray client connection timeout",
     "output_type": "error",
     "traceback": [
      "\u001b[0;31m---------------------------------------------------------------------------\u001b[0m",
      "\u001b[0;31mConnectionError\u001b[0m                           Traceback (most recent call last)",
      "Cell \u001b[0;32mIn [5], line 3\u001b[0m\n\u001b[1;32m      1\u001b[0m \u001b[38;5;66;03m# tag::ray_client[]\u001b[39;00m\n\u001b[1;32m      2\u001b[0m \u001b[38;5;28;01mimport\u001b[39;00m \u001b[38;5;21;01mray\u001b[39;00m\n\u001b[0;32m----> 3\u001b[0m ray\u001b[38;5;241m.\u001b[39minit(address\u001b[38;5;241m=\u001b[39m\u001b[38;5;124m\"\u001b[39m\u001b[38;5;124mray://localhost:10001\u001b[39m\u001b[38;5;124m\"\u001b[39m)\n\u001b[1;32m      4\u001b[0m \u001b[38;5;28mprint\u001b[39m(ray\u001b[38;5;241m.\u001b[39mcluster_resources())\n",
      "File \u001b[0;32m~/anaconda3/envs/bigdata-2022-2/lib/python3.9/site-packages/ray/_private/client_mode_hook.py:105\u001b[0m, in \u001b[0;36mclient_mode_hook.<locals>.wrapper\u001b[0;34m(*args, **kwargs)\u001b[0m\n\u001b[1;32m    103\u001b[0m     \u001b[39mif\u001b[39;00m func\u001b[39m.\u001b[39m\u001b[39m__name__\u001b[39m \u001b[39m!=\u001b[39m \u001b[39m\"\u001b[39m\u001b[39minit\u001b[39m\u001b[39m\"\u001b[39m \u001b[39mor\u001b[39;00m is_client_mode_enabled_by_default:\n\u001b[1;32m    104\u001b[0m         \u001b[39mreturn\u001b[39;00m \u001b[39mgetattr\u001b[39m(ray, func\u001b[39m.\u001b[39m\u001b[39m__name__\u001b[39m)(\u001b[39m*\u001b[39margs, \u001b[39m*\u001b[39m\u001b[39m*\u001b[39mkwargs)\n\u001b[0;32m--> 105\u001b[0m \u001b[39mreturn\u001b[39;00m func(\u001b[39m*\u001b[39;49margs, \u001b[39m*\u001b[39;49m\u001b[39m*\u001b[39;49mkwargs)\n",
      "File \u001b[0;32m~/anaconda3/envs/bigdata-2022-2/lib/python3.9/site-packages/ray/_private/worker.py:1248\u001b[0m, in \u001b[0;36minit\u001b[0;34m(address, num_cpus, num_gpus, resources, object_store_memory, local_mode, ignore_reinit_error, include_dashboard, dashboard_host, dashboard_port, job_config, configure_logging, logging_level, logging_format, log_to_driver, namespace, runtime_env, storage, **kwargs)\u001b[0m\n\u001b[1;32m   1246\u001b[0m passed_kwargs\u001b[39m.\u001b[39mupdate(kwargs)\n\u001b[1;32m   1247\u001b[0m builder\u001b[39m.\u001b[39m_init_args(\u001b[39m*\u001b[39m\u001b[39m*\u001b[39mpassed_kwargs)\n\u001b[0;32m-> 1248\u001b[0m ctx \u001b[39m=\u001b[39m builder\u001b[39m.\u001b[39;49mconnect()\n\u001b[1;32m   1249\u001b[0m \u001b[39mfrom\u001b[39;00m \u001b[39mray\u001b[39;00m\u001b[39m.\u001b[39;00m\u001b[39m_private\u001b[39;00m\u001b[39m.\u001b[39;00m\u001b[39musage\u001b[39;00m \u001b[39mimport\u001b[39;00m usage_lib\n\u001b[1;32m   1251\u001b[0m \u001b[39mif\u001b[39;00m passed_kwargs\u001b[39m.\u001b[39mget(\u001b[39m\"\u001b[39m\u001b[39mallow_multiple\u001b[39m\u001b[39m\"\u001b[39m) \u001b[39mis\u001b[39;00m \u001b[39mTrue\u001b[39;00m:\n",
      "File \u001b[0;32m~/anaconda3/envs/bigdata-2022-2/lib/python3.9/site-packages/ray/client_builder.py:178\u001b[0m, in \u001b[0;36mClientBuilder.connect\u001b[0;34m(self)\u001b[0m\n\u001b[1;32m    175\u001b[0m \u001b[39mif\u001b[39;00m \u001b[39mself\u001b[39m\u001b[39m.\u001b[39m_allow_multiple_connections:\n\u001b[1;32m    176\u001b[0m     old_ray_cxt \u001b[39m=\u001b[39m ray\u001b[39m.\u001b[39mutil\u001b[39m.\u001b[39mclient\u001b[39m.\u001b[39mray\u001b[39m.\u001b[39mset_context(\u001b[39mNone\u001b[39;00m)\n\u001b[0;32m--> 178\u001b[0m client_info_dict \u001b[39m=\u001b[39m ray\u001b[39m.\u001b[39;49mutil\u001b[39m.\u001b[39;49mclient_connect\u001b[39m.\u001b[39;49mconnect(\n\u001b[1;32m    179\u001b[0m     \u001b[39mself\u001b[39;49m\u001b[39m.\u001b[39;49maddress,\n\u001b[1;32m    180\u001b[0m     job_config\u001b[39m=\u001b[39;49m\u001b[39mself\u001b[39;49m\u001b[39m.\u001b[39;49m_job_config,\n\u001b[1;32m    181\u001b[0m     _credentials\u001b[39m=\u001b[39;49m\u001b[39mself\u001b[39;49m\u001b[39m.\u001b[39;49m_credentials,\n\u001b[1;32m    182\u001b[0m     ray_init_kwargs\u001b[39m=\u001b[39;49m\u001b[39mself\u001b[39;49m\u001b[39m.\u001b[39;49m_remote_init_kwargs,\n\u001b[1;32m    183\u001b[0m     metadata\u001b[39m=\u001b[39;49m\u001b[39mself\u001b[39;49m\u001b[39m.\u001b[39;49m_metadata,\n\u001b[1;32m    184\u001b[0m )\n\u001b[1;32m    185\u001b[0m get_dashboard_url \u001b[39m=\u001b[39m ray\u001b[39m.\u001b[39mremote(ray\u001b[39m.\u001b[39m_private\u001b[39m.\u001b[39mworker\u001b[39m.\u001b[39mget_dashboard_url)\n\u001b[1;32m    186\u001b[0m dashboard_url \u001b[39m=\u001b[39m ray\u001b[39m.\u001b[39mget(get_dashboard_url\u001b[39m.\u001b[39moptions(num_cpus\u001b[39m=\u001b[39m\u001b[39m0\u001b[39m)\u001b[39m.\u001b[39mremote())\n",
      "File \u001b[0;32m~/anaconda3/envs/bigdata-2022-2/lib/python3.9/site-packages/ray/util/client_connect.py:47\u001b[0m, in \u001b[0;36mconnect\u001b[0;34m(conn_str, secure, metadata, connection_retries, job_config, namespace, ignore_version, _credentials, ray_init_kwargs)\u001b[0m\n\u001b[1;32m     42\u001b[0m _explicitly_enable_client_mode()\n\u001b[1;32m     44\u001b[0m \u001b[39m# TODO(barakmich): https://github.com/ray-project/ray/issues/13274\u001b[39;00m\n\u001b[1;32m     45\u001b[0m \u001b[39m# for supporting things like cert_path, ca_path, etc and creating\u001b[39;00m\n\u001b[1;32m     46\u001b[0m \u001b[39m# the correct metadata\u001b[39;00m\n\u001b[0;32m---> 47\u001b[0m conn \u001b[39m=\u001b[39m ray\u001b[39m.\u001b[39;49mconnect(\n\u001b[1;32m     48\u001b[0m     conn_str,\n\u001b[1;32m     49\u001b[0m     job_config\u001b[39m=\u001b[39;49mjob_config,\n\u001b[1;32m     50\u001b[0m     secure\u001b[39m=\u001b[39;49msecure,\n\u001b[1;32m     51\u001b[0m     metadata\u001b[39m=\u001b[39;49mmetadata,\n\u001b[1;32m     52\u001b[0m     connection_retries\u001b[39m=\u001b[39;49mconnection_retries,\n\u001b[1;32m     53\u001b[0m     namespace\u001b[39m=\u001b[39;49mnamespace,\n\u001b[1;32m     54\u001b[0m     ignore_version\u001b[39m=\u001b[39;49mignore_version,\n\u001b[1;32m     55\u001b[0m     _credentials\u001b[39m=\u001b[39;49m_credentials,\n\u001b[1;32m     56\u001b[0m     ray_init_kwargs\u001b[39m=\u001b[39;49mray_init_kwargs,\n\u001b[1;32m     57\u001b[0m )\n\u001b[1;32m     58\u001b[0m \u001b[39mreturn\u001b[39;00m conn\n",
      "File \u001b[0;32m~/anaconda3/envs/bigdata-2022-2/lib/python3.9/site-packages/ray/util/client/__init__.py:252\u001b[0m, in \u001b[0;36mRayAPIStub.connect\u001b[0;34m(self, *args, **kw_args)\u001b[0m\n\u001b[1;32m    250\u001b[0m \u001b[39mdef\u001b[39;00m \u001b[39mconnect\u001b[39m(\u001b[39mself\u001b[39m, \u001b[39m*\u001b[39margs, \u001b[39m*\u001b[39m\u001b[39m*\u001b[39mkw_args):\n\u001b[1;32m    251\u001b[0m     \u001b[39mself\u001b[39m\u001b[39m.\u001b[39mget_context()\u001b[39m.\u001b[39m_inside_client_test \u001b[39m=\u001b[39m \u001b[39mself\u001b[39m\u001b[39m.\u001b[39m_inside_client_test\n\u001b[0;32m--> 252\u001b[0m     conn \u001b[39m=\u001b[39m \u001b[39mself\u001b[39;49m\u001b[39m.\u001b[39;49mget_context()\u001b[39m.\u001b[39;49mconnect(\u001b[39m*\u001b[39;49margs, \u001b[39m*\u001b[39;49m\u001b[39m*\u001b[39;49mkw_args)\n\u001b[1;32m    253\u001b[0m     \u001b[39mglobal\u001b[39;00m _lock, _all_contexts\n\u001b[1;32m    254\u001b[0m     \u001b[39mwith\u001b[39;00m _lock:\n",
      "File \u001b[0;32m~/anaconda3/envs/bigdata-2022-2/lib/python3.9/site-packages/ray/util/client/__init__.py:94\u001b[0m, in \u001b[0;36m_ClientContext.connect\u001b[0;34m(self, conn_str, job_config, secure, metadata, connection_retries, namespace, ignore_version, _credentials, ray_init_kwargs)\u001b[0m\n\u001b[1;32m     91\u001b[0m setup_logger(logging_level, logging_format)\n\u001b[1;32m     93\u001b[0m \u001b[39mtry\u001b[39;00m:\n\u001b[0;32m---> 94\u001b[0m     \u001b[39mself\u001b[39m\u001b[39m.\u001b[39mclient_worker \u001b[39m=\u001b[39m Worker(\n\u001b[1;32m     95\u001b[0m         conn_str,\n\u001b[1;32m     96\u001b[0m         secure\u001b[39m=\u001b[39;49msecure,\n\u001b[1;32m     97\u001b[0m         _credentials\u001b[39m=\u001b[39;49m_credentials,\n\u001b[1;32m     98\u001b[0m         metadata\u001b[39m=\u001b[39;49mmetadata,\n\u001b[1;32m     99\u001b[0m         connection_retries\u001b[39m=\u001b[39;49mconnection_retries,\n\u001b[1;32m    100\u001b[0m     )\n\u001b[1;32m    101\u001b[0m     \u001b[39mself\u001b[39m\u001b[39m.\u001b[39mapi\u001b[39m.\u001b[39mworker \u001b[39m=\u001b[39m \u001b[39mself\u001b[39m\u001b[39m.\u001b[39mclient_worker\n\u001b[1;32m    102\u001b[0m     \u001b[39mself\u001b[39m\u001b[39m.\u001b[39mclient_worker\u001b[39m.\u001b[39m_server_init(job_config, ray_init_kwargs)\n",
      "File \u001b[0;32m~/anaconda3/envs/bigdata-2022-2/lib/python3.9/site-packages/ray/util/client/worker.py:139\u001b[0m, in \u001b[0;36mWorker.__init__\u001b[0;34m(self, conn_str, secure, metadata, connection_retries, _credentials)\u001b[0m\n\u001b[1;32m    136\u001b[0m \u001b[39m# Set to True after initial connection succeeds\u001b[39;00m\n\u001b[1;32m    137\u001b[0m \u001b[39mself\u001b[39m\u001b[39m.\u001b[39m_has_connected \u001b[39m=\u001b[39m \u001b[39mFalse\u001b[39;00m\n\u001b[0;32m--> 139\u001b[0m \u001b[39mself\u001b[39;49m\u001b[39m.\u001b[39;49m_connect_channel()\n\u001b[1;32m    140\u001b[0m \u001b[39mself\u001b[39m\u001b[39m.\u001b[39m_has_connected \u001b[39m=\u001b[39m \u001b[39mTrue\u001b[39;00m\n\u001b[1;32m    142\u001b[0m \u001b[39m# Has Ray been initialized on the server?\u001b[39;00m\n",
      "File \u001b[0;32m~/anaconda3/envs/bigdata-2022-2/lib/python3.9/site-packages/ray/util/client/worker.py:260\u001b[0m, in \u001b[0;36mWorker._connect_channel\u001b[0;34m(self, reconnecting)\u001b[0m\n\u001b[1;32m    252\u001b[0m \u001b[39mif\u001b[39;00m log_once(\u001b[39m\"\u001b[39m\u001b[39mray_client_security_groups\u001b[39m\u001b[39m\"\u001b[39m):\n\u001b[1;32m    253\u001b[0m     warnings\u001b[39m.\u001b[39mwarn(\n\u001b[1;32m    254\u001b[0m         \u001b[39m\"\u001b[39m\u001b[39mRay Client connection timed out. Ensure that \u001b[39m\u001b[39m\"\u001b[39m\n\u001b[1;32m    255\u001b[0m         \u001b[39m\"\u001b[39m\u001b[39mthe Ray Client port on the head node is reachable \u001b[39m\u001b[39m\"\u001b[39m\n\u001b[0;32m   (...)\u001b[0m\n\u001b[1;32m    258\u001b[0m         \u001b[39m\"\u001b[39m\u001b[39mmore information.\u001b[39m\u001b[39m\"\u001b[39m\n\u001b[1;32m    259\u001b[0m     )\n\u001b[0;32m--> 260\u001b[0m \u001b[39mraise\u001b[39;00m \u001b[39mConnectionError\u001b[39;00m(\u001b[39m\"\u001b[39m\u001b[39mray client connection timeout\u001b[39m\u001b[39m\"\u001b[39m)\n",
      "\u001b[0;31mConnectionError\u001b[0m: ray client connection timeout"
     ]
    }
   ],
   "source": [
    "# tag::ray_client[]\n",
    "import ray\n",
    "ray.init(address=\"ray://localhost:10001\")\n",
    "print(ray.cluster_resources())"
   ]
  },
  {
   "cell_type": "code",
   "execution_count": null,
   "id": "39150a40",
   "metadata": {},
   "outputs": [],
   "source": [
    "@ray.remote\n",
    "def test():\n",
    "    return 12"
   ]
  },
  {
   "cell_type": "code",
   "execution_count": null,
   "id": "2ff37c41",
   "metadata": {},
   "outputs": [],
   "source": [
    "ray.get([test.remote() for i in range(12)])\n",
    "# end::ray_client[]"
   ]
  }
 ],
 "metadata": {
  "jupytext": {
   "cell_metadata_filter": "-all",
   "main_language": "python",
   "notebook_metadata_filter": "-all"
  },
  "kernelspec": {
   "display_name": "Python 3.9.13 ('bigdata-2022-2')",
   "language": "python",
   "name": "python3"
  },
  "language_info": {
   "codemirror_mode": {
    "name": "ipython",
    "version": 3
   },
   "file_extension": ".py",
   "mimetype": "text/x-python",
   "name": "python",
   "nbconvert_exporter": "python",
   "pygments_lexer": "ipython3",
   "version": "3.9.13"
  },
  "vscode": {
   "interpreter": {
    "hash": "ee0e340b373adaa70299d42cd1cb59b0a3467f40584d69eef1fc62bec46809f7"
   }
  }
 },
 "nbformat": 4,
 "nbformat_minor": 5
}
